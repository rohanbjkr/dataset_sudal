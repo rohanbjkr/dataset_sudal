{
  "cells": [
    {
      "cell_type": "markdown",
      "metadata": {
        "id": "view-in-github",
        "colab_type": "text"
      },
      "source": [
        "<a href=\"https://colab.research.google.com/github/rohanbjkr/dataset_sudal/blob/Sudal-data/survey_data_python.ipynb\" target=\"_parent\"><img src=\"https://colab.research.google.com/assets/colab-badge.svg\" alt=\"Open In Colab\"/></a>"
      ]
    },
    {
      "cell_type": "markdown",
      "id": "f7b2d32f",
      "metadata": {
        "id": "f7b2d32f"
      },
      "source": [
        "# Survey Data Analysis in Python\n",
        "## By Rohan Byanjankar\n",
        "\n",
        "**What do we learn in this tutorial?**\n",
        "* Importing CSV File from web\n",
        "* Describing the dataframe\n",
        "* Graphs"
      ]
    },
    {
      "cell_type": "markdown",
      "id": "2dfc100a",
      "metadata": {
        "id": "2dfc100a"
      },
      "source": [
        "## Importing the data from github"
      ]
    },
    {
      "cell_type": "code",
      "execution_count": 5,
      "id": "bf706640",
      "metadata": {
        "colab": {
          "base_uri": "https://localhost:8080/"
        },
        "id": "bf706640",
        "outputId": "52bc2a95-ca30-4d68-944f-b0961947cf22"
      },
      "outputs": [
        {
          "output_type": "execute_result",
          "data": {
            "text/plain": [
              "('sudal_data_python.csv', <http.client.HTTPMessage at 0x7ff77388ab50>)"
            ]
          },
          "metadata": {},
          "execution_count": 5
        }
      ],
      "source": [
        "from urllib.request import urlretrieve\n",
        "df_sudal_url = 'https://raw.githubusercontent.com/rohanbjkr/dataset_sudal/Sudal-data/sudal_data_python.csv'\n",
        "urlretrieve(df_sudal_url,'sudal_data_python.csv')"
      ]
    },
    {
      "cell_type": "markdown",
      "id": "8177afb7",
      "metadata": {
        "id": "8177afb7"
      },
      "source": [
        "## Importing the dataset into dataframe"
      ]
    },
    {
      "cell_type": "code",
      "execution_count": null,
      "id": "d05bd205",
      "metadata": {
        "id": "d05bd205"
      },
      "outputs": [],
      "source": [
        "import pandas as pd\n",
        "# You are free to write any name of dataframe. It is just an object or holder.\n",
        "df_sudal = pd.read_csv('sudal_data_python.csv')"
      ]
    },
    {
      "cell_type": "code",
      "execution_count": null,
      "id": "145a7127",
      "metadata": {
        "scrolled": true,
        "colab": {
          "base_uri": "https://localhost:8080/",
          "height": 424
        },
        "id": "145a7127",
        "outputId": "52a685a1-7d20-4956-c7e8-dd86b51e9dc3"
      },
      "outputs": [
        {
          "output_type": "execute_result",
          "data": {
            "text/plain": [
              "      sn  hh       area  gender  age        education   family  religion  \\\n",
              "0      1   4  Koteshwor  Female   24          Masters  Nuclear  Hindiusm   \n",
              "1      2  74  Koteshwor  Female   25  Attended School    Joint  Buddhist   \n",
              "2      3  11  Koteshwor    Male   25          Masters  Nuclear  Hindiusm   \n",
              "3      4   8  Koteshwor    Male   25     Intermediate  Nuclear  Hindiusm   \n",
              "4      5  12  Koteshwor    Male   26          Masters  Nuclear  Hindiusm   \n",
              "..   ...  ..        ...     ...  ...              ...      ...       ...   \n",
              "183  184  98      Sudal    Male   52  Attended School  Nuclear  Hindiusm   \n",
              "184  185  35      Sudal    Male   52        Bachelors    Joint  Hindiusm   \n",
              "185  186  72      Sudal    Male   52        Bachelors    Joint  Hindiusm   \n",
              "186  187  84      Sudal  Female   52          Masters    Joint  Hindiusm   \n",
              "187  188  10      Sudal  Female   55          Masters    Joint  Hindiusm   \n",
              "\n",
              "     ethnic  hhsize  employment  occupation  sector  food_today  food_10_yrs  \\\n",
              "0         2      15    Employed         3.0     1.0      180000        77620   \n",
              "1         9      13    Employed        13.0     2.0      222122       160801   \n",
              "2         2       5    Employed         8.0     4.0      120000        14838   \n",
              "3         2       6    Employed         5.0     4.0      144000         7281   \n",
              "4         2       6    Employed         8.0     4.0      240000       158868   \n",
              "..      ...     ...         ...         ...     ...         ...          ...   \n",
              "183       2       2    Employed         3.0     4.0      101613        53794   \n",
              "184       3       7    Employed         6.0     1.0       97032        52219   \n",
              "185       2       4  Unemployed         NaN     NaN       93508        73666   \n",
              "186       3       2  Unemployed         NaN     NaN       84776        67318   \n",
              "187       3       4    Employed         3.0     4.0       54000         2919   \n",
              "\n",
              "     expenses  income  income_avg  \n",
              "0      356000  356000       23733  \n",
              "1      697073  567507       84137  \n",
              "2      333000  333000       66600  \n",
              "3      283000  283000       47167  \n",
              "4      552000  552000       92000  \n",
              "..        ...     ...         ...  \n",
              "183    278066  474361       88331  \n",
              "184    357940  132871       47391  \n",
              "185    276585  434075       51636  \n",
              "186    389311  424008      100949  \n",
              "187    205000  444000      111000  \n",
              "\n",
              "[188 rows x 18 columns]"
            ],
            "text/html": [
              "\n",
              "  <div id=\"df-716ad873-724b-4ba4-b2e2-fbca7e7554f3\">\n",
              "    <div class=\"colab-df-container\">\n",
              "      <div>\n",
              "<style scoped>\n",
              "    .dataframe tbody tr th:only-of-type {\n",
              "        vertical-align: middle;\n",
              "    }\n",
              "\n",
              "    .dataframe tbody tr th {\n",
              "        vertical-align: top;\n",
              "    }\n",
              "\n",
              "    .dataframe thead th {\n",
              "        text-align: right;\n",
              "    }\n",
              "</style>\n",
              "<table border=\"1\" class=\"dataframe\">\n",
              "  <thead>\n",
              "    <tr style=\"text-align: right;\">\n",
              "      <th></th>\n",
              "      <th>sn</th>\n",
              "      <th>hh</th>\n",
              "      <th>area</th>\n",
              "      <th>gender</th>\n",
              "      <th>age</th>\n",
              "      <th>education</th>\n",
              "      <th>family</th>\n",
              "      <th>religion</th>\n",
              "      <th>ethnic</th>\n",
              "      <th>hhsize</th>\n",
              "      <th>employment</th>\n",
              "      <th>occupation</th>\n",
              "      <th>sector</th>\n",
              "      <th>food_today</th>\n",
              "      <th>food_10_yrs</th>\n",
              "      <th>expenses</th>\n",
              "      <th>income</th>\n",
              "      <th>income_avg</th>\n",
              "    </tr>\n",
              "  </thead>\n",
              "  <tbody>\n",
              "    <tr>\n",
              "      <th>0</th>\n",
              "      <td>1</td>\n",
              "      <td>4</td>\n",
              "      <td>Koteshwor</td>\n",
              "      <td>Female</td>\n",
              "      <td>24</td>\n",
              "      <td>Masters</td>\n",
              "      <td>Nuclear</td>\n",
              "      <td>Hindiusm</td>\n",
              "      <td>2</td>\n",
              "      <td>15</td>\n",
              "      <td>Employed</td>\n",
              "      <td>3.0</td>\n",
              "      <td>1.0</td>\n",
              "      <td>180000</td>\n",
              "      <td>77620</td>\n",
              "      <td>356000</td>\n",
              "      <td>356000</td>\n",
              "      <td>23733</td>\n",
              "    </tr>\n",
              "    <tr>\n",
              "      <th>1</th>\n",
              "      <td>2</td>\n",
              "      <td>74</td>\n",
              "      <td>Koteshwor</td>\n",
              "      <td>Female</td>\n",
              "      <td>25</td>\n",
              "      <td>Attended School</td>\n",
              "      <td>Joint</td>\n",
              "      <td>Buddhist</td>\n",
              "      <td>9</td>\n",
              "      <td>13</td>\n",
              "      <td>Employed</td>\n",
              "      <td>13.0</td>\n",
              "      <td>2.0</td>\n",
              "      <td>222122</td>\n",
              "      <td>160801</td>\n",
              "      <td>697073</td>\n",
              "      <td>567507</td>\n",
              "      <td>84137</td>\n",
              "    </tr>\n",
              "    <tr>\n",
              "      <th>2</th>\n",
              "      <td>3</td>\n",
              "      <td>11</td>\n",
              "      <td>Koteshwor</td>\n",
              "      <td>Male</td>\n",
              "      <td>25</td>\n",
              "      <td>Masters</td>\n",
              "      <td>Nuclear</td>\n",
              "      <td>Hindiusm</td>\n",
              "      <td>2</td>\n",
              "      <td>5</td>\n",
              "      <td>Employed</td>\n",
              "      <td>8.0</td>\n",
              "      <td>4.0</td>\n",
              "      <td>120000</td>\n",
              "      <td>14838</td>\n",
              "      <td>333000</td>\n",
              "      <td>333000</td>\n",
              "      <td>66600</td>\n",
              "    </tr>\n",
              "    <tr>\n",
              "      <th>3</th>\n",
              "      <td>4</td>\n",
              "      <td>8</td>\n",
              "      <td>Koteshwor</td>\n",
              "      <td>Male</td>\n",
              "      <td>25</td>\n",
              "      <td>Intermediate</td>\n",
              "      <td>Nuclear</td>\n",
              "      <td>Hindiusm</td>\n",
              "      <td>2</td>\n",
              "      <td>6</td>\n",
              "      <td>Employed</td>\n",
              "      <td>5.0</td>\n",
              "      <td>4.0</td>\n",
              "      <td>144000</td>\n",
              "      <td>7281</td>\n",
              "      <td>283000</td>\n",
              "      <td>283000</td>\n",
              "      <td>47167</td>\n",
              "    </tr>\n",
              "    <tr>\n",
              "      <th>4</th>\n",
              "      <td>5</td>\n",
              "      <td>12</td>\n",
              "      <td>Koteshwor</td>\n",
              "      <td>Male</td>\n",
              "      <td>26</td>\n",
              "      <td>Masters</td>\n",
              "      <td>Nuclear</td>\n",
              "      <td>Hindiusm</td>\n",
              "      <td>2</td>\n",
              "      <td>6</td>\n",
              "      <td>Employed</td>\n",
              "      <td>8.0</td>\n",
              "      <td>4.0</td>\n",
              "      <td>240000</td>\n",
              "      <td>158868</td>\n",
              "      <td>552000</td>\n",
              "      <td>552000</td>\n",
              "      <td>92000</td>\n",
              "    </tr>\n",
              "    <tr>\n",
              "      <th>...</th>\n",
              "      <td>...</td>\n",
              "      <td>...</td>\n",
              "      <td>...</td>\n",
              "      <td>...</td>\n",
              "      <td>...</td>\n",
              "      <td>...</td>\n",
              "      <td>...</td>\n",
              "      <td>...</td>\n",
              "      <td>...</td>\n",
              "      <td>...</td>\n",
              "      <td>...</td>\n",
              "      <td>...</td>\n",
              "      <td>...</td>\n",
              "      <td>...</td>\n",
              "      <td>...</td>\n",
              "      <td>...</td>\n",
              "      <td>...</td>\n",
              "      <td>...</td>\n",
              "    </tr>\n",
              "    <tr>\n",
              "      <th>183</th>\n",
              "      <td>184</td>\n",
              "      <td>98</td>\n",
              "      <td>Sudal</td>\n",
              "      <td>Male</td>\n",
              "      <td>52</td>\n",
              "      <td>Attended School</td>\n",
              "      <td>Nuclear</td>\n",
              "      <td>Hindiusm</td>\n",
              "      <td>2</td>\n",
              "      <td>2</td>\n",
              "      <td>Employed</td>\n",
              "      <td>3.0</td>\n",
              "      <td>4.0</td>\n",
              "      <td>101613</td>\n",
              "      <td>53794</td>\n",
              "      <td>278066</td>\n",
              "      <td>474361</td>\n",
              "      <td>88331</td>\n",
              "    </tr>\n",
              "    <tr>\n",
              "      <th>184</th>\n",
              "      <td>185</td>\n",
              "      <td>35</td>\n",
              "      <td>Sudal</td>\n",
              "      <td>Male</td>\n",
              "      <td>52</td>\n",
              "      <td>Bachelors</td>\n",
              "      <td>Joint</td>\n",
              "      <td>Hindiusm</td>\n",
              "      <td>3</td>\n",
              "      <td>7</td>\n",
              "      <td>Employed</td>\n",
              "      <td>6.0</td>\n",
              "      <td>1.0</td>\n",
              "      <td>97032</td>\n",
              "      <td>52219</td>\n",
              "      <td>357940</td>\n",
              "      <td>132871</td>\n",
              "      <td>47391</td>\n",
              "    </tr>\n",
              "    <tr>\n",
              "      <th>185</th>\n",
              "      <td>186</td>\n",
              "      <td>72</td>\n",
              "      <td>Sudal</td>\n",
              "      <td>Male</td>\n",
              "      <td>52</td>\n",
              "      <td>Bachelors</td>\n",
              "      <td>Joint</td>\n",
              "      <td>Hindiusm</td>\n",
              "      <td>2</td>\n",
              "      <td>4</td>\n",
              "      <td>Unemployed</td>\n",
              "      <td>NaN</td>\n",
              "      <td>NaN</td>\n",
              "      <td>93508</td>\n",
              "      <td>73666</td>\n",
              "      <td>276585</td>\n",
              "      <td>434075</td>\n",
              "      <td>51636</td>\n",
              "    </tr>\n",
              "    <tr>\n",
              "      <th>186</th>\n",
              "      <td>187</td>\n",
              "      <td>84</td>\n",
              "      <td>Sudal</td>\n",
              "      <td>Female</td>\n",
              "      <td>52</td>\n",
              "      <td>Masters</td>\n",
              "      <td>Joint</td>\n",
              "      <td>Hindiusm</td>\n",
              "      <td>3</td>\n",
              "      <td>2</td>\n",
              "      <td>Unemployed</td>\n",
              "      <td>NaN</td>\n",
              "      <td>NaN</td>\n",
              "      <td>84776</td>\n",
              "      <td>67318</td>\n",
              "      <td>389311</td>\n",
              "      <td>424008</td>\n",
              "      <td>100949</td>\n",
              "    </tr>\n",
              "    <tr>\n",
              "      <th>187</th>\n",
              "      <td>188</td>\n",
              "      <td>10</td>\n",
              "      <td>Sudal</td>\n",
              "      <td>Female</td>\n",
              "      <td>55</td>\n",
              "      <td>Masters</td>\n",
              "      <td>Joint</td>\n",
              "      <td>Hindiusm</td>\n",
              "      <td>3</td>\n",
              "      <td>4</td>\n",
              "      <td>Employed</td>\n",
              "      <td>3.0</td>\n",
              "      <td>4.0</td>\n",
              "      <td>54000</td>\n",
              "      <td>2919</td>\n",
              "      <td>205000</td>\n",
              "      <td>444000</td>\n",
              "      <td>111000</td>\n",
              "    </tr>\n",
              "  </tbody>\n",
              "</table>\n",
              "<p>188 rows × 18 columns</p>\n",
              "</div>\n",
              "      <button class=\"colab-df-convert\" onclick=\"convertToInteractive('df-716ad873-724b-4ba4-b2e2-fbca7e7554f3')\"\n",
              "              title=\"Convert this dataframe to an interactive table.\"\n",
              "              style=\"display:none;\">\n",
              "        \n",
              "  <svg xmlns=\"http://www.w3.org/2000/svg\" height=\"24px\"viewBox=\"0 0 24 24\"\n",
              "       width=\"24px\">\n",
              "    <path d=\"M0 0h24v24H0V0z\" fill=\"none\"/>\n",
              "    <path d=\"M18.56 5.44l.94 2.06.94-2.06 2.06-.94-2.06-.94-.94-2.06-.94 2.06-2.06.94zm-11 1L8.5 8.5l.94-2.06 2.06-.94-2.06-.94L8.5 2.5l-.94 2.06-2.06.94zm10 10l.94 2.06.94-2.06 2.06-.94-2.06-.94-.94-2.06-.94 2.06-2.06.94z\"/><path d=\"M17.41 7.96l-1.37-1.37c-.4-.4-.92-.59-1.43-.59-.52 0-1.04.2-1.43.59L10.3 9.45l-7.72 7.72c-.78.78-.78 2.05 0 2.83L4 21.41c.39.39.9.59 1.41.59.51 0 1.02-.2 1.41-.59l7.78-7.78 2.81-2.81c.8-.78.8-2.07 0-2.86zM5.41 20L4 18.59l7.72-7.72 1.47 1.35L5.41 20z\"/>\n",
              "  </svg>\n",
              "      </button>\n",
              "      \n",
              "  <style>\n",
              "    .colab-df-container {\n",
              "      display:flex;\n",
              "      flex-wrap:wrap;\n",
              "      gap: 12px;\n",
              "    }\n",
              "\n",
              "    .colab-df-convert {\n",
              "      background-color: #E8F0FE;\n",
              "      border: none;\n",
              "      border-radius: 50%;\n",
              "      cursor: pointer;\n",
              "      display: none;\n",
              "      fill: #1967D2;\n",
              "      height: 32px;\n",
              "      padding: 0 0 0 0;\n",
              "      width: 32px;\n",
              "    }\n",
              "\n",
              "    .colab-df-convert:hover {\n",
              "      background-color: #E2EBFA;\n",
              "      box-shadow: 0px 1px 2px rgba(60, 64, 67, 0.3), 0px 1px 3px 1px rgba(60, 64, 67, 0.15);\n",
              "      fill: #174EA6;\n",
              "    }\n",
              "\n",
              "    [theme=dark] .colab-df-convert {\n",
              "      background-color: #3B4455;\n",
              "      fill: #D2E3FC;\n",
              "    }\n",
              "\n",
              "    [theme=dark] .colab-df-convert:hover {\n",
              "      background-color: #434B5C;\n",
              "      box-shadow: 0px 1px 3px 1px rgba(0, 0, 0, 0.15);\n",
              "      filter: drop-shadow(0px 1px 2px rgba(0, 0, 0, 0.3));\n",
              "      fill: #FFFFFF;\n",
              "    }\n",
              "  </style>\n",
              "\n",
              "      <script>\n",
              "        const buttonEl =\n",
              "          document.querySelector('#df-716ad873-724b-4ba4-b2e2-fbca7e7554f3 button.colab-df-convert');\n",
              "        buttonEl.style.display =\n",
              "          google.colab.kernel.accessAllowed ? 'block' : 'none';\n",
              "\n",
              "        async function convertToInteractive(key) {\n",
              "          const element = document.querySelector('#df-716ad873-724b-4ba4-b2e2-fbca7e7554f3');\n",
              "          const dataTable =\n",
              "            await google.colab.kernel.invokeFunction('convertToInteractive',\n",
              "                                                     [key], {});\n",
              "          if (!dataTable) return;\n",
              "\n",
              "          const docLinkHtml = 'Like what you see? Visit the ' +\n",
              "            '<a target=\"_blank\" href=https://colab.research.google.com/notebooks/data_table.ipynb>data table notebook</a>'\n",
              "            + ' to learn more about interactive tables.';\n",
              "          element.innerHTML = '';\n",
              "          dataTable['output_type'] = 'display_data';\n",
              "          await google.colab.output.renderOutput(dataTable, element);\n",
              "          const docLink = document.createElement('div');\n",
              "          docLink.innerHTML = docLinkHtml;\n",
              "          element.appendChild(docLink);\n",
              "        }\n",
              "      </script>\n",
              "    </div>\n",
              "  </div>\n",
              "  "
            ]
          },
          "metadata": {},
          "execution_count": 3
        }
      ],
      "source": [
        "df_sudal"
      ]
    },
    {
      "cell_type": "markdown",
      "id": "8d73eb9f",
      "metadata": {
        "id": "8d73eb9f"
      },
      "source": [
        "## Q1: How many respondents are from Koteshwor and Sudal?"
      ]
    },
    {
      "cell_type": "code",
      "execution_count": null,
      "id": "8a0a6555",
      "metadata": {
        "id": "8a0a6555",
        "outputId": "e91cbacf-8cce-4b16-f083-0fa7abf220f2"
      },
      "outputs": [
        {
          "data": {
            "text/plain": [
              "0      Koteshwor\n",
              "1      Koteshwor\n",
              "2      Koteshwor\n",
              "3      Koteshwor\n",
              "4      Koteshwor\n",
              "         ...    \n",
              "183        Sudal\n",
              "184        Sudal\n",
              "185        Sudal\n",
              "186        Sudal\n",
              "187        Sudal\n",
              "Name: area, Length: 188, dtype: object"
            ]
          },
          "execution_count": 11,
          "metadata": {},
          "output_type": "execute_result"
        }
      ],
      "source": [
        "#Selecting column 'Area'\n",
        "df_sudal['area']"
      ]
    },
    {
      "cell_type": "code",
      "execution_count": null,
      "id": "03351b54",
      "metadata": {
        "id": "03351b54",
        "outputId": "0650620c-28f5-4414-a340-b839a845a7ec"
      },
      "outputs": [
        {
          "name": "stdout",
          "output_type": "stream",
          "text": [
            "The total number of respondents are 188\n"
          ]
        }
      ],
      "source": [
        "total_number_of_respondents = df_sudal['area'].count()\n",
        "print('The total number of respondents are {}'.format(total_number_of_respondents))\n",
        "#{} is called PlaceHolder."
      ]
    },
    {
      "cell_type": "markdown",
      "id": "9d4123bb",
      "metadata": {
        "id": "9d4123bb"
      },
      "source": [
        "**Filter 1:** I filtered columns, that is, I extracted only one column named `area`.\n",
        "\n",
        "**Filter 2:** I filtered inside the choosen column, that is, I filtered inside the column `area`.\n",
        "\n",
        "**Last:** I counted the number of rows. "
      ]
    },
    {
      "cell_type": "code",
      "execution_count": null,
      "id": "5e31009f",
      "metadata": {
        "id": "5e31009f",
        "outputId": "479067e0-0cf6-49c0-eeed-97aa0203cd2c"
      },
      "outputs": [
        {
          "data": {
            "text/plain": [
              "102"
            ]
          },
          "execution_count": 15,
          "metadata": {},
          "output_type": "execute_result"
        }
      ],
      "source": [
        "df_sudal['area'][df_sudal['area']==\"Sudal\"].count()"
      ]
    },
    {
      "cell_type": "code",
      "execution_count": null,
      "id": "79cf36ce",
      "metadata": {
        "id": "79cf36ce",
        "outputId": "90ee98cb-29fb-46e7-ada7-5e8ae0a008f0"
      },
      "outputs": [
        {
          "name": "stdout",
          "output_type": "stream",
          "text": [
            "The total number of respondents in Sudal are 102\n"
          ]
        }
      ],
      "source": [
        "total_number_of_respondents_sudal = df_sudal['area'][df_sudal['area']==\"Sudal\"].count()\n",
        "print('The total number of respondents in Sudal are {}'.format(total_number_of_respondents_sudal))"
      ]
    },
    {
      "cell_type": "code",
      "execution_count": null,
      "id": "ffb81926",
      "metadata": {
        "id": "ffb81926",
        "outputId": "9d0807a4-06fc-4228-f1c3-db7fca5cb030"
      },
      "outputs": [
        {
          "name": "stdout",
          "output_type": "stream",
          "text": [
            "The total number of respondents in Koteshwor are 86\n"
          ]
        }
      ],
      "source": [
        "total_number_of_respondents_koteshwor = df_sudal['area'][df_sudal['area']==\"Koteshwor\"].count()\n",
        "print('The total number of respondents in Koteshwor are {}'.format(total_number_of_respondents_koteshwor))"
      ]
    },
    {
      "cell_type": "code",
      "execution_count": null,
      "id": "d4cc400f",
      "metadata": {
        "id": "d4cc400f",
        "outputId": "7d08c80b-a4ea-4080-81d8-7ce5770b7366"
      },
      "outputs": [
        {
          "data": {
            "text/plain": [
              "188"
            ]
          },
          "execution_count": 17,
          "metadata": {},
          "output_type": "execute_result"
        }
      ],
      "source": [
        "total_number_of_respondents_koteshwor+total_number_of_respondents_sudal"
      ]
    },
    {
      "cell_type": "code",
      "execution_count": null,
      "id": "44fa6a93",
      "metadata": {
        "id": "44fa6a93",
        "outputId": "d043104c-0914-417a-ed7d-42adc8f2d706"
      },
      "outputs": [
        {
          "name": "stdout",
          "output_type": "stream",
          "text": [
            "The total number of respondents in Sudal are 102\n"
          ]
        }
      ],
      "source": [
        "#I created a new string variable and passed the data into it.\n",
        "Area = \"Sudal\" \n",
        "total_number_of_respondents_area = df_sudal['area'][df_sudal['area']==Area].count()\n",
        "print('The total number of respondents in {} are {}.'.format(Area,total_number_of_respondents_area))"
      ]
    },
    {
      "cell_type": "code",
      "execution_count": null,
      "id": "e031166b",
      "metadata": {
        "id": "e031166b",
        "outputId": "0f1089a7-c252-48fa-fb39-62caffa53fbc"
      },
      "outputs": [
        {
          "name": "stdout",
          "output_type": "stream",
          "text": [
            "The total number of respondents in Koteshwor are 86.\n"
          ]
        }
      ],
      "source": [
        "#I created a new string variable and passed the data into it.\n",
        "Area = \"Koteshwor\" \n",
        "total_number_of_respondents_area = df_sudal['area'][df_sudal['area']==Area].count()\n",
        "print('The total number of respondents in {} are {}.'.format(Area,total_number_of_respondents_area))"
      ]
    },
    {
      "cell_type": "markdown",
      "id": "5dc05acb",
      "metadata": {
        "id": "5dc05acb"
      },
      "source": [
        "## Q2: What is the average number of households in Sudal and Koteshwor?"
      ]
    },
    {
      "cell_type": "code",
      "execution_count": null,
      "id": "bf31f8a9",
      "metadata": {
        "id": "bf31f8a9",
        "outputId": "c94bce6d-a98e-493f-dfad-1fac9a80b65f"
      },
      "outputs": [
        {
          "name": "stdout",
          "output_type": "stream",
          "text": [
            "The average number of households is 5.90.\n"
          ]
        }
      ],
      "source": [
        "average_hh= df_sudal['hhsize'].mean()\n",
        "print(\"The average number of households is {:.2f}.\".format(average_hh))"
      ]
    },
    {
      "cell_type": "code",
      "execution_count": null,
      "id": "5fe38525",
      "metadata": {
        "id": "5fe38525",
        "outputId": "4a1daf5f-eb02-4e74-c765-964b320389f3"
      },
      "outputs": [
        {
          "name": "stdout",
          "output_type": "stream",
          "text": [
            "The average number of households in Sudal is 4.24.\n"
          ]
        }
      ],
      "source": [
        "Area = \"Sudal\"\n",
        "average_hh= df_sudal['hhsize'][df_sudal['area']==Area].mean()\n",
        "print(\"The average number of households in {} is {:.2f}.\".format(Area,average_hh))"
      ]
    },
    {
      "cell_type": "code",
      "execution_count": null,
      "id": "02006b51",
      "metadata": {
        "id": "02006b51",
        "outputId": "21b793ff-6d4e-42b5-802d-29d538395731"
      },
      "outputs": [
        {
          "name": "stdout",
          "output_type": "stream",
          "text": [
            "The average number of households in Koteshwor is 7.88.\n"
          ]
        }
      ],
      "source": [
        "Area = \"Koteshwor\"\n",
        "average_hh= df_sudal['hhsize'][df_sudal['area']==Area].mean()\n",
        "print(\"The average number of households in {} is {:.2f}.\".format(Area,average_hh))"
      ]
    },
    {
      "cell_type": "code",
      "execution_count": null,
      "id": "e8d6f510",
      "metadata": {
        "id": "e8d6f510",
        "outputId": "89fed2c6-efeb-4ba8-a9ec-5175582b3061"
      },
      "outputs": [
        {
          "data": {
            "application/javascript": [
              "window.require && require([\"base/js/namespace\"],function(Jupyter){Jupyter.notebook.save_checkpoint()})"
            ],
            "text/plain": [
              "<IPython.core.display.Javascript object>"
            ]
          },
          "metadata": {},
          "output_type": "display_data"
        },
        {
          "name": "stdout",
          "output_type": "stream",
          "text": [
            "[jovian] Creating a new project \"rohanbjkr/survey_data_python\"\u001b[0m\n",
            "[jovian] Committed successfully! https://jovian.ai/rohanbjkr/survey-data-python\u001b[0m\n"
          ]
        },
        {
          "data": {
            "text/plain": [
              "'https://jovian.ai/rohanbjkr/survey-data-python'"
            ]
          },
          "execution_count": 28,
          "metadata": {},
          "output_type": "execute_result"
        }
      ],
      "source": [
        "project_name = \"survey_data_python\"\n",
        "import jovian\n",
        "jovian.commit(project=project_name)"
      ]
    },
    {
      "cell_type": "markdown",
      "id": "1c4d84b7",
      "metadata": {
        "id": "1c4d84b7"
      },
      "source": [
        "## Q3: Create a new series called `average expenses` and find the mean average expenses by gender and by area."
      ]
    },
    {
      "cell_type": "markdown",
      "id": "3dcb19d4",
      "metadata": {
        "id": "3dcb19d4"
      },
      "source": [
        "Average expenses is total expenses divided by household size.\n",
        "\n",
        "command to insert a new variable to our dataframe.\n",
        "\n",
        "`dataframe['new_variable_name'] = Your desired value`"
      ]
    },
    {
      "cell_type": "code",
      "execution_count": null,
      "id": "8e4b001f",
      "metadata": {
        "id": "8e4b001f"
      },
      "outputs": [],
      "source": [
        "df_sudal['expenses_avg'] = df_sudal['expenses']/df_sudal['hhsize'] #or\n",
        "# df_sudal['expenses_avg'] = df_sudal.expenses/df_sudal.hhsize"
      ]
    },
    {
      "cell_type": "code",
      "execution_count": null,
      "id": "fa1b15c1",
      "metadata": {
        "id": "fa1b15c1",
        "outputId": "f925dbd7-6430-4ee5-d71f-05f8c3c15b2f"
      },
      "outputs": [
        {
          "name": "stdout",
          "output_type": "stream",
          "text": [
            "70683.39834543987\n"
          ]
        }
      ],
      "source": [
        "#Explaination\n",
        "first_filter = df_sudal['expenses_avg']\n",
        "second_filter = first_filter[df_sudal[\"area\"]==\"Sudal\"] #We extract the data of area \"Sudal\"\n",
        "third_filter = second_filter[df_sudal['gender']==\"Male\"] #We extracted the data of gender \"Male\"\n",
        "mean = third_filter.mean()\n",
        "print(mean)"
      ]
    },
    {
      "cell_type": "code",
      "execution_count": null,
      "id": "48d1194f",
      "metadata": {
        "id": "48d1194f",
        "outputId": "1237a00b-b388-41b5-e808-0e58556d40a7"
      },
      "outputs": [
        {
          "name": "stdout",
          "output_type": "stream",
          "text": [
            "The average expenses of Sudal region of Male headed households is Rs. 70683.40.\n"
          ]
        }
      ],
      "source": [
        "area = \"Sudal\"\n",
        "gender = \"Male\"\n",
        "average_expenses = df_sudal['expenses_avg'][df_sudal['area']==area][df_sudal['gender']==gender].mean()\n",
        "print(\"The average expenses of {} region of {} headed households is Rs. {:.2f}.\".format(area,gender,average_expenses))"
      ]
    },
    {
      "cell_type": "code",
      "execution_count": null,
      "id": "a89cff4d",
      "metadata": {
        "id": "a89cff4d",
        "outputId": "f944b18b-b312-49e9-d934-5d89a2edfb29"
      },
      "outputs": [
        {
          "name": "stdout",
          "output_type": "stream",
          "text": [
            "The average expenses of Koteshwor region of Male headed households is Rs. 72076.64.\n"
          ]
        }
      ],
      "source": [
        "area = \"Koteshwor\"\n",
        "gender = \"Male\"\n",
        "average_expenses = df_sudal['expenses_avg'][df_sudal['area']==area][df_sudal['gender']==gender].mean()\n",
        "print(\"The average expenses of {} region of {} headed households is Rs. {:.2f}.\".format(area,gender,average_expenses))"
      ]
    },
    {
      "cell_type": "code",
      "execution_count": null,
      "id": "7a1b748f",
      "metadata": {
        "id": "7a1b748f",
        "outputId": "d8b3c60a-6800-4965-919d-7a59d142e54f"
      },
      "outputs": [
        {
          "name": "stdout",
          "output_type": "stream",
          "text": [
            "The average expenses of Sudal region of Female headed households is Rs. 70068.69.\n"
          ]
        }
      ],
      "source": [
        "area = \"Sudal\"\n",
        "gender = \"Female\"\n",
        "average_expenses = df_sudal['expenses_avg'][df_sudal['area']==area][df_sudal['gender']==gender].mean()\n",
        "print(\"The average expenses of {} region of {} headed households is Rs. {:.2f}.\".format(area,gender,average_expenses))"
      ]
    },
    {
      "cell_type": "code",
      "execution_count": null,
      "id": "c1610ec6",
      "metadata": {
        "id": "c1610ec6",
        "outputId": "e3c93d82-9d5e-484d-9d10-6d6fbeb1cd95"
      },
      "outputs": [
        {
          "name": "stdout",
          "output_type": "stream",
          "text": [
            "The average expenses of Koteshwor region of Female headed households is Rs. 79174.22.\n"
          ]
        }
      ],
      "source": [
        "area = \"Koteshwor\"\n",
        "gender = \"Female\"\n",
        "average_expenses = df_sudal['expenses_avg'][df_sudal['area']==area][df_sudal['gender']==gender].mean()\n",
        "print(\"The average expenses of {} region of {} headed households is Rs. {:.2f}.\".format(area,gender,average_expenses))"
      ]
    },
    {
      "cell_type": "markdown",
      "id": "156a490f",
      "metadata": {
        "id": "156a490f"
      },
      "source": [
        "## Q4: Declare `area` and `education` as the categorical variable."
      ]
    },
    {
      "cell_type": "code",
      "execution_count": null,
      "id": "eee1efc6",
      "metadata": {
        "id": "eee1efc6",
        "outputId": "9a8bd61b-dc29-40df-8c9a-1442fce51c0a"
      },
      "outputs": [
        {
          "data": {
            "text/html": [
              "<div>\n",
              "<style scoped>\n",
              "    .dataframe tbody tr th:only-of-type {\n",
              "        vertical-align: middle;\n",
              "    }\n",
              "\n",
              "    .dataframe tbody tr th {\n",
              "        vertical-align: top;\n",
              "    }\n",
              "\n",
              "    .dataframe thead th {\n",
              "        text-align: right;\n",
              "    }\n",
              "</style>\n",
              "<table border=\"1\" class=\"dataframe\">\n",
              "  <thead>\n",
              "    <tr style=\"text-align: right;\">\n",
              "      <th></th>\n",
              "      <th>sn</th>\n",
              "      <th>hh</th>\n",
              "      <th>area</th>\n",
              "      <th>gender</th>\n",
              "      <th>age</th>\n",
              "      <th>education</th>\n",
              "      <th>family</th>\n",
              "      <th>religion</th>\n",
              "      <th>ethnic</th>\n",
              "      <th>hhsize</th>\n",
              "      <th>employment</th>\n",
              "      <th>occupation</th>\n",
              "      <th>sector</th>\n",
              "      <th>food_today</th>\n",
              "      <th>food_10_yrs</th>\n",
              "      <th>expenses</th>\n",
              "      <th>income</th>\n",
              "      <th>income_avg</th>\n",
              "      <th>expenses_avg</th>\n",
              "    </tr>\n",
              "  </thead>\n",
              "  <tbody>\n",
              "    <tr>\n",
              "      <th>0</th>\n",
              "      <td>1</td>\n",
              "      <td>4</td>\n",
              "      <td>Koteshwor</td>\n",
              "      <td>Female</td>\n",
              "      <td>24</td>\n",
              "      <td>Masters</td>\n",
              "      <td>Nuclear</td>\n",
              "      <td>Hindiusm</td>\n",
              "      <td>2</td>\n",
              "      <td>15</td>\n",
              "      <td>Employed</td>\n",
              "      <td>3.0</td>\n",
              "      <td>1.0</td>\n",
              "      <td>180000</td>\n",
              "      <td>77620</td>\n",
              "      <td>356000</td>\n",
              "      <td>356000</td>\n",
              "      <td>23733</td>\n",
              "      <td>23733.333333</td>\n",
              "    </tr>\n",
              "    <tr>\n",
              "      <th>1</th>\n",
              "      <td>2</td>\n",
              "      <td>74</td>\n",
              "      <td>Koteshwor</td>\n",
              "      <td>Female</td>\n",
              "      <td>25</td>\n",
              "      <td>Attended School</td>\n",
              "      <td>Joint</td>\n",
              "      <td>Buddhist</td>\n",
              "      <td>9</td>\n",
              "      <td>13</td>\n",
              "      <td>Employed</td>\n",
              "      <td>13.0</td>\n",
              "      <td>2.0</td>\n",
              "      <td>222122</td>\n",
              "      <td>160801</td>\n",
              "      <td>697073</td>\n",
              "      <td>567507</td>\n",
              "      <td>84137</td>\n",
              "      <td>53621.000000</td>\n",
              "    </tr>\n",
              "    <tr>\n",
              "      <th>2</th>\n",
              "      <td>3</td>\n",
              "      <td>11</td>\n",
              "      <td>Koteshwor</td>\n",
              "      <td>Male</td>\n",
              "      <td>25</td>\n",
              "      <td>Masters</td>\n",
              "      <td>Nuclear</td>\n",
              "      <td>Hindiusm</td>\n",
              "      <td>2</td>\n",
              "      <td>5</td>\n",
              "      <td>Employed</td>\n",
              "      <td>8.0</td>\n",
              "      <td>4.0</td>\n",
              "      <td>120000</td>\n",
              "      <td>14838</td>\n",
              "      <td>333000</td>\n",
              "      <td>333000</td>\n",
              "      <td>66600</td>\n",
              "      <td>66600.000000</td>\n",
              "    </tr>\n",
              "    <tr>\n",
              "      <th>3</th>\n",
              "      <td>4</td>\n",
              "      <td>8</td>\n",
              "      <td>Koteshwor</td>\n",
              "      <td>Male</td>\n",
              "      <td>25</td>\n",
              "      <td>Intermediate</td>\n",
              "      <td>Nuclear</td>\n",
              "      <td>Hindiusm</td>\n",
              "      <td>2</td>\n",
              "      <td>6</td>\n",
              "      <td>Employed</td>\n",
              "      <td>5.0</td>\n",
              "      <td>4.0</td>\n",
              "      <td>144000</td>\n",
              "      <td>7281</td>\n",
              "      <td>283000</td>\n",
              "      <td>283000</td>\n",
              "      <td>47167</td>\n",
              "      <td>47166.666667</td>\n",
              "    </tr>\n",
              "    <tr>\n",
              "      <th>4</th>\n",
              "      <td>5</td>\n",
              "      <td>12</td>\n",
              "      <td>Koteshwor</td>\n",
              "      <td>Male</td>\n",
              "      <td>26</td>\n",
              "      <td>Masters</td>\n",
              "      <td>Nuclear</td>\n",
              "      <td>Hindiusm</td>\n",
              "      <td>2</td>\n",
              "      <td>6</td>\n",
              "      <td>Employed</td>\n",
              "      <td>8.0</td>\n",
              "      <td>4.0</td>\n",
              "      <td>240000</td>\n",
              "      <td>158868</td>\n",
              "      <td>552000</td>\n",
              "      <td>552000</td>\n",
              "      <td>92000</td>\n",
              "      <td>92000.000000</td>\n",
              "    </tr>\n",
              "    <tr>\n",
              "      <th>...</th>\n",
              "      <td>...</td>\n",
              "      <td>...</td>\n",
              "      <td>...</td>\n",
              "      <td>...</td>\n",
              "      <td>...</td>\n",
              "      <td>...</td>\n",
              "      <td>...</td>\n",
              "      <td>...</td>\n",
              "      <td>...</td>\n",
              "      <td>...</td>\n",
              "      <td>...</td>\n",
              "      <td>...</td>\n",
              "      <td>...</td>\n",
              "      <td>...</td>\n",
              "      <td>...</td>\n",
              "      <td>...</td>\n",
              "      <td>...</td>\n",
              "      <td>...</td>\n",
              "      <td>...</td>\n",
              "    </tr>\n",
              "    <tr>\n",
              "      <th>183</th>\n",
              "      <td>184</td>\n",
              "      <td>98</td>\n",
              "      <td>Sudal</td>\n",
              "      <td>Male</td>\n",
              "      <td>52</td>\n",
              "      <td>Attended School</td>\n",
              "      <td>Nuclear</td>\n",
              "      <td>Hindiusm</td>\n",
              "      <td>2</td>\n",
              "      <td>2</td>\n",
              "      <td>Employed</td>\n",
              "      <td>3.0</td>\n",
              "      <td>4.0</td>\n",
              "      <td>101613</td>\n",
              "      <td>53794</td>\n",
              "      <td>278066</td>\n",
              "      <td>474361</td>\n",
              "      <td>88331</td>\n",
              "      <td>139033.000000</td>\n",
              "    </tr>\n",
              "    <tr>\n",
              "      <th>184</th>\n",
              "      <td>185</td>\n",
              "      <td>35</td>\n",
              "      <td>Sudal</td>\n",
              "      <td>Male</td>\n",
              "      <td>52</td>\n",
              "      <td>Bachelors</td>\n",
              "      <td>Joint</td>\n",
              "      <td>Hindiusm</td>\n",
              "      <td>3</td>\n",
              "      <td>7</td>\n",
              "      <td>Employed</td>\n",
              "      <td>6.0</td>\n",
              "      <td>1.0</td>\n",
              "      <td>97032</td>\n",
              "      <td>52219</td>\n",
              "      <td>357940</td>\n",
              "      <td>132871</td>\n",
              "      <td>47391</td>\n",
              "      <td>51134.285714</td>\n",
              "    </tr>\n",
              "    <tr>\n",
              "      <th>185</th>\n",
              "      <td>186</td>\n",
              "      <td>72</td>\n",
              "      <td>Sudal</td>\n",
              "      <td>Male</td>\n",
              "      <td>52</td>\n",
              "      <td>Bachelors</td>\n",
              "      <td>Joint</td>\n",
              "      <td>Hindiusm</td>\n",
              "      <td>2</td>\n",
              "      <td>4</td>\n",
              "      <td>Unemployed</td>\n",
              "      <td>NaN</td>\n",
              "      <td>NaN</td>\n",
              "      <td>93508</td>\n",
              "      <td>73666</td>\n",
              "      <td>276585</td>\n",
              "      <td>434075</td>\n",
              "      <td>51636</td>\n",
              "      <td>69146.250000</td>\n",
              "    </tr>\n",
              "    <tr>\n",
              "      <th>186</th>\n",
              "      <td>187</td>\n",
              "      <td>84</td>\n",
              "      <td>Sudal</td>\n",
              "      <td>Female</td>\n",
              "      <td>52</td>\n",
              "      <td>Masters</td>\n",
              "      <td>Joint</td>\n",
              "      <td>Hindiusm</td>\n",
              "      <td>3</td>\n",
              "      <td>2</td>\n",
              "      <td>Unemployed</td>\n",
              "      <td>NaN</td>\n",
              "      <td>NaN</td>\n",
              "      <td>84776</td>\n",
              "      <td>67318</td>\n",
              "      <td>389311</td>\n",
              "      <td>424008</td>\n",
              "      <td>100949</td>\n",
              "      <td>194655.500000</td>\n",
              "    </tr>\n",
              "    <tr>\n",
              "      <th>187</th>\n",
              "      <td>188</td>\n",
              "      <td>10</td>\n",
              "      <td>Sudal</td>\n",
              "      <td>Female</td>\n",
              "      <td>55</td>\n",
              "      <td>Masters</td>\n",
              "      <td>Joint</td>\n",
              "      <td>Hindiusm</td>\n",
              "      <td>3</td>\n",
              "      <td>4</td>\n",
              "      <td>Employed</td>\n",
              "      <td>3.0</td>\n",
              "      <td>4.0</td>\n",
              "      <td>54000</td>\n",
              "      <td>2919</td>\n",
              "      <td>205000</td>\n",
              "      <td>444000</td>\n",
              "      <td>111000</td>\n",
              "      <td>51250.000000</td>\n",
              "    </tr>\n",
              "  </tbody>\n",
              "</table>\n",
              "<p>188 rows × 19 columns</p>\n",
              "</div>"
            ],
            "text/plain": [
              "      sn  hh       area  gender  age        education   family  religion  \\\n",
              "0      1   4  Koteshwor  Female   24          Masters  Nuclear  Hindiusm   \n",
              "1      2  74  Koteshwor  Female   25  Attended School    Joint  Buddhist   \n",
              "2      3  11  Koteshwor    Male   25          Masters  Nuclear  Hindiusm   \n",
              "3      4   8  Koteshwor    Male   25     Intermediate  Nuclear  Hindiusm   \n",
              "4      5  12  Koteshwor    Male   26          Masters  Nuclear  Hindiusm   \n",
              "..   ...  ..        ...     ...  ...              ...      ...       ...   \n",
              "183  184  98      Sudal    Male   52  Attended School  Nuclear  Hindiusm   \n",
              "184  185  35      Sudal    Male   52        Bachelors    Joint  Hindiusm   \n",
              "185  186  72      Sudal    Male   52        Bachelors    Joint  Hindiusm   \n",
              "186  187  84      Sudal  Female   52          Masters    Joint  Hindiusm   \n",
              "187  188  10      Sudal  Female   55          Masters    Joint  Hindiusm   \n",
              "\n",
              "     ethnic  hhsize  employment  occupation  sector  food_today  food_10_yrs  \\\n",
              "0         2      15    Employed         3.0     1.0      180000        77620   \n",
              "1         9      13    Employed        13.0     2.0      222122       160801   \n",
              "2         2       5    Employed         8.0     4.0      120000        14838   \n",
              "3         2       6    Employed         5.0     4.0      144000         7281   \n",
              "4         2       6    Employed         8.0     4.0      240000       158868   \n",
              "..      ...     ...         ...         ...     ...         ...          ...   \n",
              "183       2       2    Employed         3.0     4.0      101613        53794   \n",
              "184       3       7    Employed         6.0     1.0       97032        52219   \n",
              "185       2       4  Unemployed         NaN     NaN       93508        73666   \n",
              "186       3       2  Unemployed         NaN     NaN       84776        67318   \n",
              "187       3       4    Employed         3.0     4.0       54000         2919   \n",
              "\n",
              "     expenses  income  income_avg   expenses_avg  \n",
              "0      356000  356000       23733   23733.333333  \n",
              "1      697073  567507       84137   53621.000000  \n",
              "2      333000  333000       66600   66600.000000  \n",
              "3      283000  283000       47167   47166.666667  \n",
              "4      552000  552000       92000   92000.000000  \n",
              "..        ...     ...         ...            ...  \n",
              "183    278066  474361       88331  139033.000000  \n",
              "184    357940  132871       47391   51134.285714  \n",
              "185    276585  434075       51636   69146.250000  \n",
              "186    389311  424008      100949  194655.500000  \n",
              "187    205000  444000      111000   51250.000000  \n",
              "\n",
              "[188 rows x 19 columns]"
            ]
          },
          "execution_count": 44,
          "metadata": {},
          "output_type": "execute_result"
        }
      ],
      "source": [
        "df_sudal['area'] = df_sudal.area.astype(\"category\")"
      ]
    },
    {
      "cell_type": "markdown",
      "id": "4e2a21ef",
      "metadata": {
        "id": "4e2a21ef"
      },
      "source": [
        "How many areas are there in our sample?"
      ]
    },
    {
      "cell_type": "code",
      "execution_count": null,
      "id": "23aca1d8",
      "metadata": {
        "id": "23aca1d8",
        "outputId": "27e33e56-e3c4-4b55-bdc8-ba7322a151ff"
      },
      "outputs": [
        {
          "data": {
            "text/plain": [
              "['Koteshwor', 'Sudal']\n",
              "Categories (2, object): ['Koteshwor', 'Sudal']"
            ]
          },
          "execution_count": 45,
          "metadata": {},
          "output_type": "execute_result"
        }
      ],
      "source": [
        "df_sudal.area.unique()"
      ]
    },
    {
      "cell_type": "code",
      "execution_count": null,
      "id": "4b3a670d",
      "metadata": {
        "id": "4b3a670d",
        "outputId": "0252a4c8-724f-48ab-d0c2-1977a46fe49e"
      },
      "outputs": [
        {
          "data": {
            "text/plain": [
              "array(['Masters', 'Attended School', 'Intermediate', 'Bachelors', 'SLC'],\n",
              "      dtype=object)"
            ]
          },
          "execution_count": 48,
          "metadata": {},
          "output_type": "execute_result"
        }
      ],
      "source": [
        "#I have not define education as categorical variable\n",
        "df_sudal.sort_values('education') #Sort by Alphabetical order by DEFAULT\n",
        "df_sudal.education.unique()"
      ]
    },
    {
      "cell_type": "code",
      "execution_count": null,
      "id": "b68ca8e6",
      "metadata": {
        "id": "b68ca8e6"
      },
      "outputs": [],
      "source": [
        "df_sudal['education'] = pd.Categorical(df_sudal['education'],categories=[\"Attended School\",\"SLC\",\"Intermediate\",\"Bachelors\",\"Masters\"],ordered=True)"
      ]
    },
    {
      "cell_type": "code",
      "execution_count": null,
      "id": "b0ea31c3",
      "metadata": {
        "id": "b0ea31c3",
        "outputId": "0bb703f1-c159-4df2-b1ed-62eaceb43a0d"
      },
      "outputs": [
        {
          "data": {
            "text/plain": [
              "['Masters', 'Attended School', 'Intermediate', 'Bachelors', 'SLC']\n",
              "Categories (5, object): ['Attended School' < 'SLC' < 'Intermediate' < 'Bachelors' < 'Masters']"
            ]
          },
          "execution_count": 50,
          "metadata": {},
          "output_type": "execute_result"
        }
      ],
      "source": [
        "df_sudal.education.unique()"
      ]
    },
    {
      "cell_type": "code",
      "execution_count": null,
      "id": "92a92678",
      "metadata": {
        "id": "92a92678",
        "outputId": "82b61b5b-a7c8-4725-b2df-fb83dc3608b2"
      },
      "outputs": [
        {
          "data": {
            "text/html": [
              "<div>\n",
              "<style scoped>\n",
              "    .dataframe tbody tr th:only-of-type {\n",
              "        vertical-align: middle;\n",
              "    }\n",
              "\n",
              "    .dataframe tbody tr th {\n",
              "        vertical-align: top;\n",
              "    }\n",
              "\n",
              "    .dataframe thead th {\n",
              "        text-align: right;\n",
              "    }\n",
              "</style>\n",
              "<table border=\"1\" class=\"dataframe\">\n",
              "  <thead>\n",
              "    <tr style=\"text-align: right;\">\n",
              "      <th></th>\n",
              "      <th>sn</th>\n",
              "      <th>hh</th>\n",
              "      <th>area</th>\n",
              "      <th>gender</th>\n",
              "      <th>age</th>\n",
              "      <th>education</th>\n",
              "      <th>family</th>\n",
              "      <th>religion</th>\n",
              "      <th>ethnic</th>\n",
              "      <th>hhsize</th>\n",
              "      <th>employment</th>\n",
              "      <th>occupation</th>\n",
              "      <th>sector</th>\n",
              "      <th>food_today</th>\n",
              "      <th>food_10_yrs</th>\n",
              "      <th>expenses</th>\n",
              "      <th>income</th>\n",
              "      <th>income_avg</th>\n",
              "      <th>expenses_avg</th>\n",
              "    </tr>\n",
              "  </thead>\n",
              "  <tbody>\n",
              "    <tr>\n",
              "      <th>70</th>\n",
              "      <td>71</td>\n",
              "      <td>39</td>\n",
              "      <td>Koteshwor</td>\n",
              "      <td>Male</td>\n",
              "      <td>66</td>\n",
              "      <td>Attended School</td>\n",
              "      <td>Nuclear</td>\n",
              "      <td>Kirat</td>\n",
              "      <td>4</td>\n",
              "      <td>7</td>\n",
              "      <td>Employed</td>\n",
              "      <td>11.0</td>\n",
              "      <td>2.0</td>\n",
              "      <td>122191</td>\n",
              "      <td>168550</td>\n",
              "      <td>342500</td>\n",
              "      <td>493252</td>\n",
              "      <td>84034</td>\n",
              "      <td>48928.571429</td>\n",
              "    </tr>\n",
              "    <tr>\n",
              "      <th>173</th>\n",
              "      <td>174</td>\n",
              "      <td>70</td>\n",
              "      <td>Sudal</td>\n",
              "      <td>Female</td>\n",
              "      <td>45</td>\n",
              "      <td>Attended School</td>\n",
              "      <td>Joint</td>\n",
              "      <td>Hindiusm</td>\n",
              "      <td>2</td>\n",
              "      <td>6</td>\n",
              "      <td>Unemployed</td>\n",
              "      <td>NaN</td>\n",
              "      <td>NaN</td>\n",
              "      <td>31746</td>\n",
              "      <td>67895</td>\n",
              "      <td>378271</td>\n",
              "      <td>273110</td>\n",
              "      <td>45678</td>\n",
              "      <td>63045.166667</td>\n",
              "    </tr>\n",
              "    <tr>\n",
              "      <th>57</th>\n",
              "      <td>58</td>\n",
              "      <td>64</td>\n",
              "      <td>Koteshwor</td>\n",
              "      <td>Male</td>\n",
              "      <td>57</td>\n",
              "      <td>Attended School</td>\n",
              "      <td>Joint</td>\n",
              "      <td>Hindiusm</td>\n",
              "      <td>4</td>\n",
              "      <td>12</td>\n",
              "      <td>Unemployed</td>\n",
              "      <td>NaN</td>\n",
              "      <td>NaN</td>\n",
              "      <td>101239</td>\n",
              "      <td>177561</td>\n",
              "      <td>509908</td>\n",
              "      <td>217707</td>\n",
              "      <td>184715</td>\n",
              "      <td>42492.333333</td>\n",
              "    </tr>\n",
              "    <tr>\n",
              "      <th>29</th>\n",
              "      <td>30</td>\n",
              "      <td>34</td>\n",
              "      <td>Koteshwor</td>\n",
              "      <td>Male</td>\n",
              "      <td>39</td>\n",
              "      <td>Attended School</td>\n",
              "      <td>Nuclear</td>\n",
              "      <td>Hindiusm</td>\n",
              "      <td>9</td>\n",
              "      <td>13</td>\n",
              "      <td>Employed</td>\n",
              "      <td>7.0</td>\n",
              "      <td>2.0</td>\n",
              "      <td>215966</td>\n",
              "      <td>108015</td>\n",
              "      <td>370876</td>\n",
              "      <td>561975</td>\n",
              "      <td>148327</td>\n",
              "      <td>28528.923077</td>\n",
              "    </tr>\n",
              "    <tr>\n",
              "      <th>102</th>\n",
              "      <td>103</td>\n",
              "      <td>60</td>\n",
              "      <td>Sudal</td>\n",
              "      <td>Male</td>\n",
              "      <td>24</td>\n",
              "      <td>Attended School</td>\n",
              "      <td>Nuclear</td>\n",
              "      <td>Hindiusm</td>\n",
              "      <td>3</td>\n",
              "      <td>7</td>\n",
              "      <td>Employed</td>\n",
              "      <td>2.0</td>\n",
              "      <td>3.0</td>\n",
              "      <td>72461</td>\n",
              "      <td>15987</td>\n",
              "      <td>461741</td>\n",
              "      <td>458248</td>\n",
              "      <td>99334</td>\n",
              "      <td>65963.000000</td>\n",
              "    </tr>\n",
              "    <tr>\n",
              "      <th>...</th>\n",
              "      <td>...</td>\n",
              "      <td>...</td>\n",
              "      <td>...</td>\n",
              "      <td>...</td>\n",
              "      <td>...</td>\n",
              "      <td>...</td>\n",
              "      <td>...</td>\n",
              "      <td>...</td>\n",
              "      <td>...</td>\n",
              "      <td>...</td>\n",
              "      <td>...</td>\n",
              "      <td>...</td>\n",
              "      <td>...</td>\n",
              "      <td>...</td>\n",
              "      <td>...</td>\n",
              "      <td>...</td>\n",
              "      <td>...</td>\n",
              "      <td>...</td>\n",
              "      <td>...</td>\n",
              "    </tr>\n",
              "    <tr>\n",
              "      <th>66</th>\n",
              "      <td>67</td>\n",
              "      <td>22</td>\n",
              "      <td>Koteshwor</td>\n",
              "      <td>Male</td>\n",
              "      <td>62</td>\n",
              "      <td>Masters</td>\n",
              "      <td>Nuclear</td>\n",
              "      <td>Hindiusm</td>\n",
              "      <td>3</td>\n",
              "      <td>6</td>\n",
              "      <td>Unemployed</td>\n",
              "      <td>NaN</td>\n",
              "      <td>NaN</td>\n",
              "      <td>240000</td>\n",
              "      <td>186879</td>\n",
              "      <td>466000</td>\n",
              "      <td>466000</td>\n",
              "      <td>77667</td>\n",
              "      <td>77666.666667</td>\n",
              "    </tr>\n",
              "    <tr>\n",
              "      <th>54</th>\n",
              "      <td>55</td>\n",
              "      <td>40</td>\n",
              "      <td>Koteshwor</td>\n",
              "      <td>Male</td>\n",
              "      <td>54</td>\n",
              "      <td>Masters</td>\n",
              "      <td>Joint</td>\n",
              "      <td>Hindiusm</td>\n",
              "      <td>9</td>\n",
              "      <td>7</td>\n",
              "      <td>Employed</td>\n",
              "      <td>7.0</td>\n",
              "      <td>3.0</td>\n",
              "      <td>244769</td>\n",
              "      <td>168533</td>\n",
              "      <td>666455</td>\n",
              "      <td>438727</td>\n",
              "      <td>69990</td>\n",
              "      <td>95207.857143</td>\n",
              "    </tr>\n",
              "    <tr>\n",
              "      <th>51</th>\n",
              "      <td>52</td>\n",
              "      <td>81</td>\n",
              "      <td>Koteshwor</td>\n",
              "      <td>Female</td>\n",
              "      <td>52</td>\n",
              "      <td>Masters</td>\n",
              "      <td>Joint</td>\n",
              "      <td>Buddhist</td>\n",
              "      <td>5</td>\n",
              "      <td>8</td>\n",
              "      <td>Employed</td>\n",
              "      <td>7.0</td>\n",
              "      <td>1.0</td>\n",
              "      <td>108560</td>\n",
              "      <td>11806</td>\n",
              "      <td>582461</td>\n",
              "      <td>428443</td>\n",
              "      <td>189072</td>\n",
              "      <td>72807.625000</td>\n",
              "    </tr>\n",
              "    <tr>\n",
              "      <th>95</th>\n",
              "      <td>96</td>\n",
              "      <td>65</td>\n",
              "      <td>Sudal</td>\n",
              "      <td>Female</td>\n",
              "      <td>22</td>\n",
              "      <td>Masters</td>\n",
              "      <td>Joint</td>\n",
              "      <td>Hindiusm</td>\n",
              "      <td>2</td>\n",
              "      <td>2</td>\n",
              "      <td>Employed</td>\n",
              "      <td>10.0</td>\n",
              "      <td>1.0</td>\n",
              "      <td>70583</td>\n",
              "      <td>51251</td>\n",
              "      <td>117680</td>\n",
              "      <td>502597</td>\n",
              "      <td>129592</td>\n",
              "      <td>58840.000000</td>\n",
              "    </tr>\n",
              "    <tr>\n",
              "      <th>187</th>\n",
              "      <td>188</td>\n",
              "      <td>10</td>\n",
              "      <td>Sudal</td>\n",
              "      <td>Female</td>\n",
              "      <td>55</td>\n",
              "      <td>Masters</td>\n",
              "      <td>Joint</td>\n",
              "      <td>Hindiusm</td>\n",
              "      <td>3</td>\n",
              "      <td>4</td>\n",
              "      <td>Employed</td>\n",
              "      <td>3.0</td>\n",
              "      <td>4.0</td>\n",
              "      <td>54000</td>\n",
              "      <td>2919</td>\n",
              "      <td>205000</td>\n",
              "      <td>444000</td>\n",
              "      <td>111000</td>\n",
              "      <td>51250.000000</td>\n",
              "    </tr>\n",
              "  </tbody>\n",
              "</table>\n",
              "<p>188 rows × 19 columns</p>\n",
              "</div>"
            ],
            "text/plain": [
              "      sn  hh       area  gender  age        education   family  religion  \\\n",
              "70    71  39  Koteshwor    Male   66  Attended School  Nuclear     Kirat   \n",
              "173  174  70      Sudal  Female   45  Attended School    Joint  Hindiusm   \n",
              "57    58  64  Koteshwor    Male   57  Attended School    Joint  Hindiusm   \n",
              "29    30  34  Koteshwor    Male   39  Attended School  Nuclear  Hindiusm   \n",
              "102  103  60      Sudal    Male   24  Attended School  Nuclear  Hindiusm   \n",
              "..   ...  ..        ...     ...  ...              ...      ...       ...   \n",
              "66    67  22  Koteshwor    Male   62          Masters  Nuclear  Hindiusm   \n",
              "54    55  40  Koteshwor    Male   54          Masters    Joint  Hindiusm   \n",
              "51    52  81  Koteshwor  Female   52          Masters    Joint  Buddhist   \n",
              "95    96  65      Sudal  Female   22          Masters    Joint  Hindiusm   \n",
              "187  188  10      Sudal  Female   55          Masters    Joint  Hindiusm   \n",
              "\n",
              "     ethnic  hhsize  employment  occupation  sector  food_today  food_10_yrs  \\\n",
              "70        4       7    Employed        11.0     2.0      122191       168550   \n",
              "173       2       6  Unemployed         NaN     NaN       31746        67895   \n",
              "57        4      12  Unemployed         NaN     NaN      101239       177561   \n",
              "29        9      13    Employed         7.0     2.0      215966       108015   \n",
              "102       3       7    Employed         2.0     3.0       72461        15987   \n",
              "..      ...     ...         ...         ...     ...         ...          ...   \n",
              "66        3       6  Unemployed         NaN     NaN      240000       186879   \n",
              "54        9       7    Employed         7.0     3.0      244769       168533   \n",
              "51        5       8    Employed         7.0     1.0      108560        11806   \n",
              "95        2       2    Employed        10.0     1.0       70583        51251   \n",
              "187       3       4    Employed         3.0     4.0       54000         2919   \n",
              "\n",
              "     expenses  income  income_avg  expenses_avg  \n",
              "70     342500  493252       84034  48928.571429  \n",
              "173    378271  273110       45678  63045.166667  \n",
              "57     509908  217707      184715  42492.333333  \n",
              "29     370876  561975      148327  28528.923077  \n",
              "102    461741  458248       99334  65963.000000  \n",
              "..        ...     ...         ...           ...  \n",
              "66     466000  466000       77667  77666.666667  \n",
              "54     666455  438727       69990  95207.857143  \n",
              "51     582461  428443      189072  72807.625000  \n",
              "95     117680  502597      129592  58840.000000  \n",
              "187    205000  444000      111000  51250.000000  \n",
              "\n",
              "[188 rows x 19 columns]"
            ]
          },
          "execution_count": 51,
          "metadata": {},
          "output_type": "execute_result"
        }
      ],
      "source": [
        "df_sudal.sort_values('education')"
      ]
    },
    {
      "cell_type": "markdown",
      "id": "82dd31d6",
      "metadata": {
        "id": "82dd31d6"
      },
      "source": [
        "## Q5: How many households have average income more than Rs. 50000."
      ]
    },
    {
      "cell_type": "code",
      "execution_count": null,
      "id": "90c14e0a",
      "metadata": {
        "id": "90c14e0a",
        "outputId": "351e2d20-9a0e-4515-f7eb-b94a64a0ed4e"
      },
      "outputs": [
        {
          "data": {
            "text/plain": [
              "150"
            ]
          },
          "execution_count": 53,
          "metadata": {},
          "output_type": "execute_result"
        }
      ],
      "source": [
        "first_filter = df_sudal['hh']\n",
        "second_filter = first_filter[df_sudal['income_avg']>50000]\n",
        "second_filter.count()"
      ]
    },
    {
      "cell_type": "code",
      "execution_count": null,
      "id": "e5796b59",
      "metadata": {
        "id": "e5796b59",
        "outputId": "028496b3-e95b-473d-dbc8-91a9a75058e2"
      },
      "outputs": [
        {
          "name": "stdout",
          "output_type": "stream",
          "text": [
            "The number of households with average income greater than Rs. 50000 is 150.\n"
          ]
        }
      ],
      "source": [
        "no_of_hh = df_sudal['hh'][df_sudal['income_avg']>50000].count()\n",
        "print(\"The number of households with average income greater than Rs. 50000 is {}.\".format(no_of_hh))"
      ]
    },
    {
      "cell_type": "markdown",
      "id": "58b5531f",
      "metadata": {
        "id": "58b5531f"
      },
      "source": [
        "## Q6: How many households have average income more than Rs. 50000 by area and by gender."
      ]
    },
    {
      "cell_type": "markdown",
      "id": "7879a476",
      "metadata": {
        "id": "7879a476"
      },
      "source": [
        "The number of male headed households in Sudal region with average income greater than Rs. 50000."
      ]
    },
    {
      "cell_type": "code",
      "execution_count": null,
      "id": "1f121611",
      "metadata": {
        "id": "1f121611",
        "outputId": "42814755-0ccf-427a-b337-5ee14abc6aa0"
      },
      "outputs": [
        {
          "name": "stdout",
          "output_type": "stream",
          "text": [
            "The number of Male headed households with average income greater than Rs. 50000 in Sudal region is 47.\n"
          ]
        }
      ],
      "source": [
        "area = \"Sudal\" #s is small in this case, code will give wrong result\n",
        "gender = \"Male\"\n",
        "average_income = 50000\n",
        "no_of_hh = df_sudal['hh'][df_sudal['income_avg']>average_income][df_sudal.gender==gender][df_sudal.area==area].count()\n",
        "print(\"The number of {} headed households with average income greater than Rs. {} in {} region is {}.\".format(gender,average_income,area,no_of_hh))"
      ]
    },
    {
      "cell_type": "code",
      "execution_count": null,
      "id": "0304d6f2",
      "metadata": {
        "id": "0304d6f2",
        "outputId": "c1556c9f-0db7-450f-8cf7-280dae2228e5"
      },
      "outputs": [
        {
          "name": "stdout",
          "output_type": "stream",
          "text": [
            "The number of Male headed households with average income greater than Rs. 50000 in Koteshwor region is 39.\n"
          ]
        }
      ],
      "source": [
        "area = \"Koteshwor\" #s is small in this case, code will give wrong result\n",
        "gender = \"Male\"\n",
        "average_income = 50000\n",
        "no_of_hh = df_sudal['hh'][df_sudal['income_avg']>average_income][df_sudal.gender==gender][df_sudal.area==area].count()\n",
        "print(\"The number of {} headed households with average income greater than Rs. {} in {} region is {}.\".format(gender,average_income,area,no_of_hh))"
      ]
    },
    {
      "cell_type": "code",
      "execution_count": null,
      "id": "afdfa010",
      "metadata": {
        "id": "afdfa010",
        "outputId": "c4c7a9b8-da47-4b6d-c18b-9e3ad28b43cf"
      },
      "outputs": [
        {
          "name": "stdout",
          "output_type": "stream",
          "text": [
            "The number of Female headed households with average income greater than Rs. 50000 in Sudal region is 34.\n"
          ]
        }
      ],
      "source": [
        "area = \"Sudal\" #s is small in this case, code will give wrong result\n",
        "gender = \"Female\"\n",
        "average_income = 50000\n",
        "no_of_hh = df_sudal['hh'][df_sudal['income_avg']>average_income][df_sudal.gender==gender][df_sudal.area==area].count()\n",
        "print(\"The number of {} headed households with average income greater than Rs. {} in {} region is {}.\".format(gender,average_income,area,no_of_hh))"
      ]
    },
    {
      "cell_type": "code",
      "execution_count": null,
      "id": "d156b026",
      "metadata": {
        "id": "d156b026",
        "outputId": "7efabd6f-192b-443a-df1d-a54f4f0f2d04"
      },
      "outputs": [
        {
          "name": "stdout",
          "output_type": "stream",
          "text": [
            "The number of Female headed households with average income greater than Rs. 50000 in Koteshwor region is 30.\n"
          ]
        }
      ],
      "source": [
        "area = \"Koteshwor\" #s is small in this case, code will give wrong result\n",
        "gender = \"Female\"\n",
        "average_income = 50000\n",
        "no_of_hh = df_sudal['hh'][df_sudal['income_avg']>average_income][df_sudal.gender==gender][df_sudal.area==area].count()\n",
        "print(\"The number of {} headed households with average income greater than Rs. {} in {} region is {}.\".format(gender,average_income,area,no_of_hh))"
      ]
    },
    {
      "cell_type": "markdown",
      "id": "b0fb5ec6",
      "metadata": {
        "id": "b0fb5ec6"
      },
      "source": [
        "## Q7: Display the names of categories of `education`."
      ]
    },
    {
      "cell_type": "code",
      "execution_count": null,
      "id": "1622b7d2",
      "metadata": {
        "id": "1622b7d2",
        "outputId": "59d93355-8d28-400f-fcea-0288aa24de23"
      },
      "outputs": [
        {
          "data": {
            "text/plain": [
              "['Masters', 'Attended School', 'Intermediate', 'Bachelors', 'SLC']\n",
              "Categories (5, object): ['Attended School' < 'SLC' < 'Intermediate' < 'Bachelors' < 'Masters']"
            ]
          },
          "execution_count": 11,
          "metadata": {},
          "output_type": "execute_result"
        }
      ],
      "source": [
        "df_sudal.education.unique()"
      ]
    },
    {
      "cell_type": "markdown",
      "id": "060b0e99",
      "metadata": {
        "id": "060b0e99"
      },
      "source": [
        "## Q8: Sort respondents by average income and display top 10 respondents with the highest average income."
      ]
    },
    {
      "cell_type": "markdown",
      "id": "026c8abc",
      "metadata": {
        "id": "026c8abc"
      },
      "source": [
        "Sorting the respondents by average income"
      ]
    },
    {
      "cell_type": "code",
      "execution_count": null,
      "id": "ac7c2e6d",
      "metadata": {
        "id": "ac7c2e6d",
        "outputId": "ee316101-f9d8-432d-a307-a680acd8f13d"
      },
      "outputs": [
        {
          "data": {
            "text/html": [
              "<div>\n",
              "<style scoped>\n",
              "    .dataframe tbody tr th:only-of-type {\n",
              "        vertical-align: middle;\n",
              "    }\n",
              "\n",
              "    .dataframe tbody tr th {\n",
              "        vertical-align: top;\n",
              "    }\n",
              "\n",
              "    .dataframe thead th {\n",
              "        text-align: right;\n",
              "    }\n",
              "</style>\n",
              "<table border=\"1\" class=\"dataframe\">\n",
              "  <thead>\n",
              "    <tr style=\"text-align: right;\">\n",
              "      <th></th>\n",
              "      <th>sn</th>\n",
              "      <th>hh</th>\n",
              "      <th>area</th>\n",
              "      <th>gender</th>\n",
              "      <th>age</th>\n",
              "      <th>education</th>\n",
              "      <th>family</th>\n",
              "      <th>religion</th>\n",
              "      <th>ethnic</th>\n",
              "      <th>hhsize</th>\n",
              "      <th>employment</th>\n",
              "      <th>occupation</th>\n",
              "      <th>sector</th>\n",
              "      <th>food_today</th>\n",
              "      <th>food_10_yrs</th>\n",
              "      <th>expenses</th>\n",
              "      <th>income</th>\n",
              "      <th>income_avg</th>\n",
              "    </tr>\n",
              "  </thead>\n",
              "  <tbody>\n",
              "    <tr>\n",
              "      <th>129</th>\n",
              "      <td>130</td>\n",
              "      <td>11</td>\n",
              "      <td>Sudal</td>\n",
              "      <td>Female</td>\n",
              "      <td>32</td>\n",
              "      <td>Intermediate</td>\n",
              "      <td>Joint</td>\n",
              "      <td>Hindiusm</td>\n",
              "      <td>3</td>\n",
              "      <td>3</td>\n",
              "      <td>Unemployed</td>\n",
              "      <td>NaN</td>\n",
              "      <td>NaN</td>\n",
              "      <td>86500</td>\n",
              "      <td>54885</td>\n",
              "      <td>123500</td>\n",
              "      <td>612500</td>\n",
              "      <td>204167</td>\n",
              "    </tr>\n",
              "    <tr>\n",
              "      <th>106</th>\n",
              "      <td>107</td>\n",
              "      <td>38</td>\n",
              "      <td>Sudal</td>\n",
              "      <td>Male</td>\n",
              "      <td>25</td>\n",
              "      <td>Attended School</td>\n",
              "      <td>Nuclear</td>\n",
              "      <td>Hindiusm</td>\n",
              "      <td>3</td>\n",
              "      <td>2</td>\n",
              "      <td>Unemployed</td>\n",
              "      <td>NaN</td>\n",
              "      <td>NaN</td>\n",
              "      <td>28767</td>\n",
              "      <td>28515</td>\n",
              "      <td>399407</td>\n",
              "      <td>421918</td>\n",
              "      <td>198322</td>\n",
              "    </tr>\n",
              "    <tr>\n",
              "      <th>10</th>\n",
              "      <td>11</td>\n",
              "      <td>1</td>\n",
              "      <td>Koteshwor</td>\n",
              "      <td>Male</td>\n",
              "      <td>30</td>\n",
              "      <td>Masters</td>\n",
              "      <td>Joint</td>\n",
              "      <td>Buddhist</td>\n",
              "      <td>5</td>\n",
              "      <td>4</td>\n",
              "      <td>Employed</td>\n",
              "      <td>15.0</td>\n",
              "      <td>1.0</td>\n",
              "      <td>240000</td>\n",
              "      <td>185600</td>\n",
              "      <td>785000</td>\n",
              "      <td>785000</td>\n",
              "      <td>196250</td>\n",
              "    </tr>\n",
              "    <tr>\n",
              "      <th>39</th>\n",
              "      <td>40</td>\n",
              "      <td>44</td>\n",
              "      <td>Koteshwor</td>\n",
              "      <td>Female</td>\n",
              "      <td>43</td>\n",
              "      <td>Attended School</td>\n",
              "      <td>Joint</td>\n",
              "      <td>Buddhist</td>\n",
              "      <td>8</td>\n",
              "      <td>3</td>\n",
              "      <td>Unemployed</td>\n",
              "      <td>NaN</td>\n",
              "      <td>NaN</td>\n",
              "      <td>176555</td>\n",
              "      <td>121793</td>\n",
              "      <td>687736</td>\n",
              "      <td>568771</td>\n",
              "      <td>196101</td>\n",
              "    </tr>\n",
              "    <tr>\n",
              "      <th>83</th>\n",
              "      <td>84</td>\n",
              "      <td>41</td>\n",
              "      <td>Koteshwor</td>\n",
              "      <td>Male</td>\n",
              "      <td>77</td>\n",
              "      <td>Bachelors</td>\n",
              "      <td>Joint</td>\n",
              "      <td>Hindiusm</td>\n",
              "      <td>10</td>\n",
              "      <td>15</td>\n",
              "      <td>Employed</td>\n",
              "      <td>4.0</td>\n",
              "      <td>3.0</td>\n",
              "      <td>221495</td>\n",
              "      <td>128097</td>\n",
              "      <td>526528</td>\n",
              "      <td>388438</td>\n",
              "      <td>195830</td>\n",
              "    </tr>\n",
              "    <tr>\n",
              "      <th>73</th>\n",
              "      <td>74</td>\n",
              "      <td>78</td>\n",
              "      <td>Koteshwor</td>\n",
              "      <td>Female</td>\n",
              "      <td>68</td>\n",
              "      <td>Attended School</td>\n",
              "      <td>Nuclear</td>\n",
              "      <td>Buddhist</td>\n",
              "      <td>9</td>\n",
              "      <td>11</td>\n",
              "      <td>Unemployed</td>\n",
              "      <td>NaN</td>\n",
              "      <td>NaN</td>\n",
              "      <td>239356</td>\n",
              "      <td>42027</td>\n",
              "      <td>449221</td>\n",
              "      <td>587344</td>\n",
              "      <td>195812</td>\n",
              "    </tr>\n",
              "    <tr>\n",
              "      <th>7</th>\n",
              "      <td>8</td>\n",
              "      <td>79</td>\n",
              "      <td>Koteshwor</td>\n",
              "      <td>Female</td>\n",
              "      <td>28</td>\n",
              "      <td>Intermediate</td>\n",
              "      <td>Nuclear</td>\n",
              "      <td>Buddhist</td>\n",
              "      <td>5</td>\n",
              "      <td>11</td>\n",
              "      <td>Unemployed</td>\n",
              "      <td>NaN</td>\n",
              "      <td>NaN</td>\n",
              "      <td>116861</td>\n",
              "      <td>129034</td>\n",
              "      <td>704725</td>\n",
              "      <td>417582</td>\n",
              "      <td>193556</td>\n",
              "    </tr>\n",
              "    <tr>\n",
              "      <th>64</th>\n",
              "      <td>65</td>\n",
              "      <td>72</td>\n",
              "      <td>Koteshwor</td>\n",
              "      <td>Male</td>\n",
              "      <td>61</td>\n",
              "      <td>SLC</td>\n",
              "      <td>Nuclear</td>\n",
              "      <td>Hindiusm</td>\n",
              "      <td>8</td>\n",
              "      <td>11</td>\n",
              "      <td>Unemployed</td>\n",
              "      <td>NaN</td>\n",
              "      <td>NaN</td>\n",
              "      <td>120470</td>\n",
              "      <td>74561</td>\n",
              "      <td>654267</td>\n",
              "      <td>637286</td>\n",
              "      <td>190040</td>\n",
              "    </tr>\n",
              "    <tr>\n",
              "      <th>61</th>\n",
              "      <td>62</td>\n",
              "      <td>63</td>\n",
              "      <td>Koteshwor</td>\n",
              "      <td>Male</td>\n",
              "      <td>59</td>\n",
              "      <td>Bachelors</td>\n",
              "      <td>Joint</td>\n",
              "      <td>Buddhist</td>\n",
              "      <td>2</td>\n",
              "      <td>15</td>\n",
              "      <td>Employed</td>\n",
              "      <td>5.0</td>\n",
              "      <td>3.0</td>\n",
              "      <td>119269</td>\n",
              "      <td>67382</td>\n",
              "      <td>355714</td>\n",
              "      <td>558631</td>\n",
              "      <td>189753</td>\n",
              "    </tr>\n",
              "    <tr>\n",
              "      <th>51</th>\n",
              "      <td>52</td>\n",
              "      <td>81</td>\n",
              "      <td>Koteshwor</td>\n",
              "      <td>Female</td>\n",
              "      <td>52</td>\n",
              "      <td>Masters</td>\n",
              "      <td>Joint</td>\n",
              "      <td>Buddhist</td>\n",
              "      <td>5</td>\n",
              "      <td>8</td>\n",
              "      <td>Employed</td>\n",
              "      <td>7.0</td>\n",
              "      <td>1.0</td>\n",
              "      <td>108560</td>\n",
              "      <td>11806</td>\n",
              "      <td>582461</td>\n",
              "      <td>428443</td>\n",
              "      <td>189072</td>\n",
              "    </tr>\n",
              "  </tbody>\n",
              "</table>\n",
              "</div>"
            ],
            "text/plain": [
              "      sn  hh       area  gender  age        education   family  religion  \\\n",
              "129  130  11      Sudal  Female   32     Intermediate    Joint  Hindiusm   \n",
              "106  107  38      Sudal    Male   25  Attended School  Nuclear  Hindiusm   \n",
              "10    11   1  Koteshwor    Male   30          Masters    Joint  Buddhist   \n",
              "39    40  44  Koteshwor  Female   43  Attended School    Joint  Buddhist   \n",
              "83    84  41  Koteshwor    Male   77        Bachelors    Joint  Hindiusm   \n",
              "73    74  78  Koteshwor  Female   68  Attended School  Nuclear  Buddhist   \n",
              "7      8  79  Koteshwor  Female   28     Intermediate  Nuclear  Buddhist   \n",
              "64    65  72  Koteshwor    Male   61              SLC  Nuclear  Hindiusm   \n",
              "61    62  63  Koteshwor    Male   59        Bachelors    Joint  Buddhist   \n",
              "51    52  81  Koteshwor  Female   52          Masters    Joint  Buddhist   \n",
              "\n",
              "     ethnic  hhsize  employment  occupation  sector  food_today  food_10_yrs  \\\n",
              "129       3       3  Unemployed         NaN     NaN       86500        54885   \n",
              "106       3       2  Unemployed         NaN     NaN       28767        28515   \n",
              "10        5       4    Employed        15.0     1.0      240000       185600   \n",
              "39        8       3  Unemployed         NaN     NaN      176555       121793   \n",
              "83       10      15    Employed         4.0     3.0      221495       128097   \n",
              "73        9      11  Unemployed         NaN     NaN      239356        42027   \n",
              "7         5      11  Unemployed         NaN     NaN      116861       129034   \n",
              "64        8      11  Unemployed         NaN     NaN      120470        74561   \n",
              "61        2      15    Employed         5.0     3.0      119269        67382   \n",
              "51        5       8    Employed         7.0     1.0      108560        11806   \n",
              "\n",
              "     expenses  income  income_avg  \n",
              "129    123500  612500      204167  \n",
              "106    399407  421918      198322  \n",
              "10     785000  785000      196250  \n",
              "39     687736  568771      196101  \n",
              "83     526528  388438      195830  \n",
              "73     449221  587344      195812  \n",
              "7      704725  417582      193556  \n",
              "64     654267  637286      190040  \n",
              "61     355714  558631      189753  \n",
              "51     582461  428443      189072  "
            ]
          },
          "execution_count": 18,
          "metadata": {},
          "output_type": "execute_result"
        }
      ],
      "source": [
        "df_sudal.sort_values('income_avg') #defalt sorting is in ascending order (small to large)\n",
        "sorting = df_sudal.sort_values('income_avg',ascending=False)\n",
        "top_10 = sorting.head(10)\n",
        "top_10"
      ]
    },
    {
      "cell_type": "code",
      "execution_count": null,
      "id": "e5c6f1bb",
      "metadata": {
        "id": "e5c6f1bb",
        "outputId": "8f594488-a449-4967-b161-f148380f753e"
      },
      "outputs": [
        {
          "data": {
            "text/html": [
              "<div>\n",
              "<style scoped>\n",
              "    .dataframe tbody tr th:only-of-type {\n",
              "        vertical-align: middle;\n",
              "    }\n",
              "\n",
              "    .dataframe tbody tr th {\n",
              "        vertical-align: top;\n",
              "    }\n",
              "\n",
              "    .dataframe thead th {\n",
              "        text-align: right;\n",
              "    }\n",
              "</style>\n",
              "<table border=\"1\" class=\"dataframe\">\n",
              "  <thead>\n",
              "    <tr style=\"text-align: right;\">\n",
              "      <th></th>\n",
              "      <th>sn</th>\n",
              "      <th>hh</th>\n",
              "      <th>area</th>\n",
              "      <th>gender</th>\n",
              "      <th>age</th>\n",
              "      <th>education</th>\n",
              "      <th>family</th>\n",
              "      <th>religion</th>\n",
              "      <th>ethnic</th>\n",
              "      <th>hhsize</th>\n",
              "      <th>employment</th>\n",
              "      <th>occupation</th>\n",
              "      <th>sector</th>\n",
              "      <th>food_today</th>\n",
              "      <th>food_10_yrs</th>\n",
              "      <th>expenses</th>\n",
              "      <th>income</th>\n",
              "      <th>income_avg</th>\n",
              "    </tr>\n",
              "  </thead>\n",
              "  <tbody>\n",
              "    <tr>\n",
              "      <th>129</th>\n",
              "      <td>130</td>\n",
              "      <td>11</td>\n",
              "      <td>Sudal</td>\n",
              "      <td>Female</td>\n",
              "      <td>32</td>\n",
              "      <td>Intermediate</td>\n",
              "      <td>Joint</td>\n",
              "      <td>Hindiusm</td>\n",
              "      <td>3</td>\n",
              "      <td>3</td>\n",
              "      <td>Unemployed</td>\n",
              "      <td>NaN</td>\n",
              "      <td>NaN</td>\n",
              "      <td>86500</td>\n",
              "      <td>54885</td>\n",
              "      <td>123500</td>\n",
              "      <td>612500</td>\n",
              "      <td>204167</td>\n",
              "    </tr>\n",
              "    <tr>\n",
              "      <th>106</th>\n",
              "      <td>107</td>\n",
              "      <td>38</td>\n",
              "      <td>Sudal</td>\n",
              "      <td>Male</td>\n",
              "      <td>25</td>\n",
              "      <td>Attended School</td>\n",
              "      <td>Nuclear</td>\n",
              "      <td>Hindiusm</td>\n",
              "      <td>3</td>\n",
              "      <td>2</td>\n",
              "      <td>Unemployed</td>\n",
              "      <td>NaN</td>\n",
              "      <td>NaN</td>\n",
              "      <td>28767</td>\n",
              "      <td>28515</td>\n",
              "      <td>399407</td>\n",
              "      <td>421918</td>\n",
              "      <td>198322</td>\n",
              "    </tr>\n",
              "    <tr>\n",
              "      <th>10</th>\n",
              "      <td>11</td>\n",
              "      <td>1</td>\n",
              "      <td>Koteshwor</td>\n",
              "      <td>Male</td>\n",
              "      <td>30</td>\n",
              "      <td>Masters</td>\n",
              "      <td>Joint</td>\n",
              "      <td>Buddhist</td>\n",
              "      <td>5</td>\n",
              "      <td>4</td>\n",
              "      <td>Employed</td>\n",
              "      <td>15.0</td>\n",
              "      <td>1.0</td>\n",
              "      <td>240000</td>\n",
              "      <td>185600</td>\n",
              "      <td>785000</td>\n",
              "      <td>785000</td>\n",
              "      <td>196250</td>\n",
              "    </tr>\n",
              "    <tr>\n",
              "      <th>39</th>\n",
              "      <td>40</td>\n",
              "      <td>44</td>\n",
              "      <td>Koteshwor</td>\n",
              "      <td>Female</td>\n",
              "      <td>43</td>\n",
              "      <td>Attended School</td>\n",
              "      <td>Joint</td>\n",
              "      <td>Buddhist</td>\n",
              "      <td>8</td>\n",
              "      <td>3</td>\n",
              "      <td>Unemployed</td>\n",
              "      <td>NaN</td>\n",
              "      <td>NaN</td>\n",
              "      <td>176555</td>\n",
              "      <td>121793</td>\n",
              "      <td>687736</td>\n",
              "      <td>568771</td>\n",
              "      <td>196101</td>\n",
              "    </tr>\n",
              "    <tr>\n",
              "      <th>83</th>\n",
              "      <td>84</td>\n",
              "      <td>41</td>\n",
              "      <td>Koteshwor</td>\n",
              "      <td>Male</td>\n",
              "      <td>77</td>\n",
              "      <td>Bachelors</td>\n",
              "      <td>Joint</td>\n",
              "      <td>Hindiusm</td>\n",
              "      <td>10</td>\n",
              "      <td>15</td>\n",
              "      <td>Employed</td>\n",
              "      <td>4.0</td>\n",
              "      <td>3.0</td>\n",
              "      <td>221495</td>\n",
              "      <td>128097</td>\n",
              "      <td>526528</td>\n",
              "      <td>388438</td>\n",
              "      <td>195830</td>\n",
              "    </tr>\n",
              "    <tr>\n",
              "      <th>73</th>\n",
              "      <td>74</td>\n",
              "      <td>78</td>\n",
              "      <td>Koteshwor</td>\n",
              "      <td>Female</td>\n",
              "      <td>68</td>\n",
              "      <td>Attended School</td>\n",
              "      <td>Nuclear</td>\n",
              "      <td>Buddhist</td>\n",
              "      <td>9</td>\n",
              "      <td>11</td>\n",
              "      <td>Unemployed</td>\n",
              "      <td>NaN</td>\n",
              "      <td>NaN</td>\n",
              "      <td>239356</td>\n",
              "      <td>42027</td>\n",
              "      <td>449221</td>\n",
              "      <td>587344</td>\n",
              "      <td>195812</td>\n",
              "    </tr>\n",
              "    <tr>\n",
              "      <th>7</th>\n",
              "      <td>8</td>\n",
              "      <td>79</td>\n",
              "      <td>Koteshwor</td>\n",
              "      <td>Female</td>\n",
              "      <td>28</td>\n",
              "      <td>Intermediate</td>\n",
              "      <td>Nuclear</td>\n",
              "      <td>Buddhist</td>\n",
              "      <td>5</td>\n",
              "      <td>11</td>\n",
              "      <td>Unemployed</td>\n",
              "      <td>NaN</td>\n",
              "      <td>NaN</td>\n",
              "      <td>116861</td>\n",
              "      <td>129034</td>\n",
              "      <td>704725</td>\n",
              "      <td>417582</td>\n",
              "      <td>193556</td>\n",
              "    </tr>\n",
              "    <tr>\n",
              "      <th>64</th>\n",
              "      <td>65</td>\n",
              "      <td>72</td>\n",
              "      <td>Koteshwor</td>\n",
              "      <td>Male</td>\n",
              "      <td>61</td>\n",
              "      <td>SLC</td>\n",
              "      <td>Nuclear</td>\n",
              "      <td>Hindiusm</td>\n",
              "      <td>8</td>\n",
              "      <td>11</td>\n",
              "      <td>Unemployed</td>\n",
              "      <td>NaN</td>\n",
              "      <td>NaN</td>\n",
              "      <td>120470</td>\n",
              "      <td>74561</td>\n",
              "      <td>654267</td>\n",
              "      <td>637286</td>\n",
              "      <td>190040</td>\n",
              "    </tr>\n",
              "    <tr>\n",
              "      <th>61</th>\n",
              "      <td>62</td>\n",
              "      <td>63</td>\n",
              "      <td>Koteshwor</td>\n",
              "      <td>Male</td>\n",
              "      <td>59</td>\n",
              "      <td>Bachelors</td>\n",
              "      <td>Joint</td>\n",
              "      <td>Buddhist</td>\n",
              "      <td>2</td>\n",
              "      <td>15</td>\n",
              "      <td>Employed</td>\n",
              "      <td>5.0</td>\n",
              "      <td>3.0</td>\n",
              "      <td>119269</td>\n",
              "      <td>67382</td>\n",
              "      <td>355714</td>\n",
              "      <td>558631</td>\n",
              "      <td>189753</td>\n",
              "    </tr>\n",
              "    <tr>\n",
              "      <th>51</th>\n",
              "      <td>52</td>\n",
              "      <td>81</td>\n",
              "      <td>Koteshwor</td>\n",
              "      <td>Female</td>\n",
              "      <td>52</td>\n",
              "      <td>Masters</td>\n",
              "      <td>Joint</td>\n",
              "      <td>Buddhist</td>\n",
              "      <td>5</td>\n",
              "      <td>8</td>\n",
              "      <td>Employed</td>\n",
              "      <td>7.0</td>\n",
              "      <td>1.0</td>\n",
              "      <td>108560</td>\n",
              "      <td>11806</td>\n",
              "      <td>582461</td>\n",
              "      <td>428443</td>\n",
              "      <td>189072</td>\n",
              "    </tr>\n",
              "  </tbody>\n",
              "</table>\n",
              "</div>"
            ],
            "text/plain": [
              "      sn  hh       area  gender  age        education   family  religion  \\\n",
              "129  130  11      Sudal  Female   32     Intermediate    Joint  Hindiusm   \n",
              "106  107  38      Sudal    Male   25  Attended School  Nuclear  Hindiusm   \n",
              "10    11   1  Koteshwor    Male   30          Masters    Joint  Buddhist   \n",
              "39    40  44  Koteshwor  Female   43  Attended School    Joint  Buddhist   \n",
              "83    84  41  Koteshwor    Male   77        Bachelors    Joint  Hindiusm   \n",
              "73    74  78  Koteshwor  Female   68  Attended School  Nuclear  Buddhist   \n",
              "7      8  79  Koteshwor  Female   28     Intermediate  Nuclear  Buddhist   \n",
              "64    65  72  Koteshwor    Male   61              SLC  Nuclear  Hindiusm   \n",
              "61    62  63  Koteshwor    Male   59        Bachelors    Joint  Buddhist   \n",
              "51    52  81  Koteshwor  Female   52          Masters    Joint  Buddhist   \n",
              "\n",
              "     ethnic  hhsize  employment  occupation  sector  food_today  food_10_yrs  \\\n",
              "129       3       3  Unemployed         NaN     NaN       86500        54885   \n",
              "106       3       2  Unemployed         NaN     NaN       28767        28515   \n",
              "10        5       4    Employed        15.0     1.0      240000       185600   \n",
              "39        8       3  Unemployed         NaN     NaN      176555       121793   \n",
              "83       10      15    Employed         4.0     3.0      221495       128097   \n",
              "73        9      11  Unemployed         NaN     NaN      239356        42027   \n",
              "7         5      11  Unemployed         NaN     NaN      116861       129034   \n",
              "64        8      11  Unemployed         NaN     NaN      120470        74561   \n",
              "61        2      15    Employed         5.0     3.0      119269        67382   \n",
              "51        5       8    Employed         7.0     1.0      108560        11806   \n",
              "\n",
              "     expenses  income  income_avg  \n",
              "129    123500  612500      204167  \n",
              "106    399407  421918      198322  \n",
              "10     785000  785000      196250  \n",
              "39     687736  568771      196101  \n",
              "83     526528  388438      195830  \n",
              "73     449221  587344      195812  \n",
              "7      704725  417582      193556  \n",
              "64     654267  637286      190040  \n",
              "61     355714  558631      189753  \n",
              "51     582461  428443      189072  "
            ]
          },
          "execution_count": 19,
          "metadata": {},
          "output_type": "execute_result"
        }
      ],
      "source": [
        "df_sudal.sort_values('income_avg',ascending=False).head(10)"
      ]
    },
    {
      "cell_type": "markdown",
      "id": "674ba336",
      "metadata": {
        "id": "674ba336"
      },
      "source": [
        "## Q9: Create a view of dataset containing area, gender, education and food expenses provided that food expenses is greater than Rs. 200000."
      ]
    },
    {
      "cell_type": "code",
      "execution_count": null,
      "id": "776c7c33",
      "metadata": {
        "id": "776c7c33",
        "outputId": "3a31f56c-f5a6-4a55-bc30-8a4c910ff2df"
      },
      "outputs": [
        {
          "data": {
            "text/html": [
              "<div>\n",
              "<style scoped>\n",
              "    .dataframe tbody tr th:only-of-type {\n",
              "        vertical-align: middle;\n",
              "    }\n",
              "\n",
              "    .dataframe tbody tr th {\n",
              "        vertical-align: top;\n",
              "    }\n",
              "\n",
              "    .dataframe thead th {\n",
              "        text-align: right;\n",
              "    }\n",
              "</style>\n",
              "<table border=\"1\" class=\"dataframe\">\n",
              "  <thead>\n",
              "    <tr style=\"text-align: right;\">\n",
              "      <th></th>\n",
              "      <th>area</th>\n",
              "      <th>gender</th>\n",
              "      <th>education</th>\n",
              "      <th>food_today</th>\n",
              "    </tr>\n",
              "  </thead>\n",
              "  <tbody>\n",
              "    <tr>\n",
              "      <th>1</th>\n",
              "      <td>Koteshwor</td>\n",
              "      <td>Female</td>\n",
              "      <td>Attended School</td>\n",
              "      <td>222122</td>\n",
              "    </tr>\n",
              "    <tr>\n",
              "      <th>4</th>\n",
              "      <td>Koteshwor</td>\n",
              "      <td>Male</td>\n",
              "      <td>Masters</td>\n",
              "      <td>240000</td>\n",
              "    </tr>\n",
              "    <tr>\n",
              "      <th>10</th>\n",
              "      <td>Koteshwor</td>\n",
              "      <td>Male</td>\n",
              "      <td>Masters</td>\n",
              "      <td>240000</td>\n",
              "    </tr>\n",
              "    <tr>\n",
              "      <th>14</th>\n",
              "      <td>Koteshwor</td>\n",
              "      <td>Male</td>\n",
              "      <td>Masters</td>\n",
              "      <td>240000</td>\n",
              "    </tr>\n",
              "    <tr>\n",
              "      <th>17</th>\n",
              "      <td>Koteshwor</td>\n",
              "      <td>Female</td>\n",
              "      <td>Intermediate</td>\n",
              "      <td>255386</td>\n",
              "    </tr>\n",
              "    <tr>\n",
              "      <th>23</th>\n",
              "      <td>Koteshwor</td>\n",
              "      <td>Female</td>\n",
              "      <td>Masters</td>\n",
              "      <td>203053</td>\n",
              "    </tr>\n",
              "    <tr>\n",
              "      <th>29</th>\n",
              "      <td>Koteshwor</td>\n",
              "      <td>Male</td>\n",
              "      <td>Attended School</td>\n",
              "      <td>215966</td>\n",
              "    </tr>\n",
              "    <tr>\n",
              "      <th>30</th>\n",
              "      <td>Koteshwor</td>\n",
              "      <td>Male</td>\n",
              "      <td>Intermediate</td>\n",
              "      <td>218696</td>\n",
              "    </tr>\n",
              "    <tr>\n",
              "      <th>41</th>\n",
              "      <td>Koteshwor</td>\n",
              "      <td>Female</td>\n",
              "      <td>Bachelors</td>\n",
              "      <td>224170</td>\n",
              "    </tr>\n",
              "    <tr>\n",
              "      <th>47</th>\n",
              "      <td>Koteshwor</td>\n",
              "      <td>Female</td>\n",
              "      <td>Masters</td>\n",
              "      <td>228022</td>\n",
              "    </tr>\n",
              "    <tr>\n",
              "      <th>48</th>\n",
              "      <td>Koteshwor</td>\n",
              "      <td>Male</td>\n",
              "      <td>Attended School</td>\n",
              "      <td>249907</td>\n",
              "    </tr>\n",
              "    <tr>\n",
              "      <th>54</th>\n",
              "      <td>Koteshwor</td>\n",
              "      <td>Male</td>\n",
              "      <td>Masters</td>\n",
              "      <td>244769</td>\n",
              "    </tr>\n",
              "    <tr>\n",
              "      <th>58</th>\n",
              "      <td>Koteshwor</td>\n",
              "      <td>Male</td>\n",
              "      <td>Bachelors</td>\n",
              "      <td>220230</td>\n",
              "    </tr>\n",
              "    <tr>\n",
              "      <th>63</th>\n",
              "      <td>Koteshwor</td>\n",
              "      <td>Male</td>\n",
              "      <td>Bachelors</td>\n",
              "      <td>212026</td>\n",
              "    </tr>\n",
              "    <tr>\n",
              "      <th>65</th>\n",
              "      <td>Koteshwor</td>\n",
              "      <td>Male</td>\n",
              "      <td>SLC</td>\n",
              "      <td>264901</td>\n",
              "    </tr>\n",
              "    <tr>\n",
              "      <th>66</th>\n",
              "      <td>Koteshwor</td>\n",
              "      <td>Male</td>\n",
              "      <td>Masters</td>\n",
              "      <td>240000</td>\n",
              "    </tr>\n",
              "    <tr>\n",
              "      <th>71</th>\n",
              "      <td>Koteshwor</td>\n",
              "      <td>Female</td>\n",
              "      <td>Bachelors</td>\n",
              "      <td>204767</td>\n",
              "    </tr>\n",
              "    <tr>\n",
              "      <th>72</th>\n",
              "      <td>Koteshwor</td>\n",
              "      <td>Female</td>\n",
              "      <td>Bachelors</td>\n",
              "      <td>217758</td>\n",
              "    </tr>\n",
              "    <tr>\n",
              "      <th>73</th>\n",
              "      <td>Koteshwor</td>\n",
              "      <td>Female</td>\n",
              "      <td>Attended School</td>\n",
              "      <td>239356</td>\n",
              "    </tr>\n",
              "    <tr>\n",
              "      <th>74</th>\n",
              "      <td>Koteshwor</td>\n",
              "      <td>Male</td>\n",
              "      <td>Bachelors</td>\n",
              "      <td>258216</td>\n",
              "    </tr>\n",
              "    <tr>\n",
              "      <th>78</th>\n",
              "      <td>Koteshwor</td>\n",
              "      <td>Male</td>\n",
              "      <td>Attended School</td>\n",
              "      <td>258900</td>\n",
              "    </tr>\n",
              "    <tr>\n",
              "      <th>81</th>\n",
              "      <td>Koteshwor</td>\n",
              "      <td>Female</td>\n",
              "      <td>Bachelors</td>\n",
              "      <td>236263</td>\n",
              "    </tr>\n",
              "    <tr>\n",
              "      <th>82</th>\n",
              "      <td>Koteshwor</td>\n",
              "      <td>Male</td>\n",
              "      <td>Masters</td>\n",
              "      <td>219824</td>\n",
              "    </tr>\n",
              "    <tr>\n",
              "      <th>83</th>\n",
              "      <td>Koteshwor</td>\n",
              "      <td>Male</td>\n",
              "      <td>Bachelors</td>\n",
              "      <td>221495</td>\n",
              "    </tr>\n",
              "    <tr>\n",
              "      <th>84</th>\n",
              "      <td>Koteshwor</td>\n",
              "      <td>Female</td>\n",
              "      <td>Attended School</td>\n",
              "      <td>229698</td>\n",
              "    </tr>\n",
              "    <tr>\n",
              "      <th>85</th>\n",
              "      <td>Koteshwor</td>\n",
              "      <td>Male</td>\n",
              "      <td>Attended School</td>\n",
              "      <td>265000</td>\n",
              "    </tr>\n",
              "  </tbody>\n",
              "</table>\n",
              "</div>"
            ],
            "text/plain": [
              "         area  gender        education  food_today\n",
              "1   Koteshwor  Female  Attended School      222122\n",
              "4   Koteshwor    Male          Masters      240000\n",
              "10  Koteshwor    Male          Masters      240000\n",
              "14  Koteshwor    Male          Masters      240000\n",
              "17  Koteshwor  Female     Intermediate      255386\n",
              "23  Koteshwor  Female          Masters      203053\n",
              "29  Koteshwor    Male  Attended School      215966\n",
              "30  Koteshwor    Male     Intermediate      218696\n",
              "41  Koteshwor  Female        Bachelors      224170\n",
              "47  Koteshwor  Female          Masters      228022\n",
              "48  Koteshwor    Male  Attended School      249907\n",
              "54  Koteshwor    Male          Masters      244769\n",
              "58  Koteshwor    Male        Bachelors      220230\n",
              "63  Koteshwor    Male        Bachelors      212026\n",
              "65  Koteshwor    Male              SLC      264901\n",
              "66  Koteshwor    Male          Masters      240000\n",
              "71  Koteshwor  Female        Bachelors      204767\n",
              "72  Koteshwor  Female        Bachelors      217758\n",
              "73  Koteshwor  Female  Attended School      239356\n",
              "74  Koteshwor    Male        Bachelors      258216\n",
              "78  Koteshwor    Male  Attended School      258900\n",
              "81  Koteshwor  Female        Bachelors      236263\n",
              "82  Koteshwor    Male          Masters      219824\n",
              "83  Koteshwor    Male        Bachelors      221495\n",
              "84  Koteshwor  Female  Attended School      229698\n",
              "85  Koteshwor    Male  Attended School      265000"
            ]
          },
          "execution_count": 36,
          "metadata": {},
          "output_type": "execute_result"
        }
      ],
      "source": [
        "# filter1 = df_sudal[['area','gender','education','food_today']]\n",
        "# filter1[df_sudal['food_today']>200000]\n",
        "\n",
        "#single line of code\n",
        "\n",
        "df_sudal[['area','gender','education','food_today']][df_sudal['food_today']>200000]"
      ]
    },
    {
      "cell_type": "markdown",
      "id": "725ed16b",
      "metadata": {
        "id": "725ed16b"
      },
      "source": [
        "## Q10: List 10 respondents with lowest average food expenses and show only their area, gender, education, and total income. "
      ]
    },
    {
      "cell_type": "code",
      "execution_count": null,
      "id": "5e76f3fe",
      "metadata": {
        "id": "5e76f3fe",
        "outputId": "a999e868-1f69-4d09-b742-3c45f560a755"
      },
      "outputs": [
        {
          "data": {
            "text/html": [
              "<div>\n",
              "<style scoped>\n",
              "    .dataframe tbody tr th:only-of-type {\n",
              "        vertical-align: middle;\n",
              "    }\n",
              "\n",
              "    .dataframe tbody tr th {\n",
              "        vertical-align: top;\n",
              "    }\n",
              "\n",
              "    .dataframe thead th {\n",
              "        text-align: right;\n",
              "    }\n",
              "</style>\n",
              "<table border=\"1\" class=\"dataframe\">\n",
              "  <thead>\n",
              "    <tr style=\"text-align: right;\">\n",
              "      <th></th>\n",
              "      <th>area</th>\n",
              "      <th>education</th>\n",
              "      <th>income</th>\n",
              "      <th>food_avg</th>\n",
              "    </tr>\n",
              "  </thead>\n",
              "  <tbody>\n",
              "    <tr>\n",
              "      <th>92</th>\n",
              "      <td>Sudal</td>\n",
              "      <td>SLC</td>\n",
              "      <td>326472</td>\n",
              "      <td>54698.000000</td>\n",
              "    </tr>\n",
              "    <tr>\n",
              "      <th>113</th>\n",
              "      <td>Sudal</td>\n",
              "      <td>Attended School</td>\n",
              "      <td>226594</td>\n",
              "      <td>58251.000000</td>\n",
              "    </tr>\n",
              "    <tr>\n",
              "      <th>164</th>\n",
              "      <td>Sudal</td>\n",
              "      <td>Masters</td>\n",
              "      <td>289410</td>\n",
              "      <td>58663.000000</td>\n",
              "    </tr>\n",
              "    <tr>\n",
              "      <th>39</th>\n",
              "      <td>Koteshwor</td>\n",
              "      <td>Attended School</td>\n",
              "      <td>568771</td>\n",
              "      <td>58851.666667</td>\n",
              "    </tr>\n",
              "    <tr>\n",
              "      <th>10</th>\n",
              "      <td>Koteshwor</td>\n",
              "      <td>Masters</td>\n",
              "      <td>785000</td>\n",
              "      <td>60000.000000</td>\n",
              "    </tr>\n",
              "    <tr>\n",
              "      <th>52</th>\n",
              "      <td>Koteshwor</td>\n",
              "      <td>Attended School</td>\n",
              "      <td>355000</td>\n",
              "      <td>60000.000000</td>\n",
              "    </tr>\n",
              "    <tr>\n",
              "      <th>48</th>\n",
              "      <td>Koteshwor</td>\n",
              "      <td>Attended School</td>\n",
              "      <td>357691</td>\n",
              "      <td>62476.750000</td>\n",
              "    </tr>\n",
              "    <tr>\n",
              "      <th>31</th>\n",
              "      <td>Koteshwor</td>\n",
              "      <td>SLC</td>\n",
              "      <td>537610</td>\n",
              "      <td>64019.000000</td>\n",
              "    </tr>\n",
              "    <tr>\n",
              "      <th>72</th>\n",
              "      <td>Koteshwor</td>\n",
              "      <td>Bachelors</td>\n",
              "      <td>508776</td>\n",
              "      <td>72586.000000</td>\n",
              "    </tr>\n",
              "    <tr>\n",
              "      <th>14</th>\n",
              "      <td>Koteshwor</td>\n",
              "      <td>Masters</td>\n",
              "      <td>377000</td>\n",
              "      <td>80000.000000</td>\n",
              "    </tr>\n",
              "  </tbody>\n",
              "</table>\n",
              "</div>"
            ],
            "text/plain": [
              "          area        education  income      food_avg\n",
              "92       Sudal              SLC  326472  54698.000000\n",
              "113      Sudal  Attended School  226594  58251.000000\n",
              "164      Sudal          Masters  289410  58663.000000\n",
              "39   Koteshwor  Attended School  568771  58851.666667\n",
              "10   Koteshwor          Masters  785000  60000.000000\n",
              "52   Koteshwor  Attended School  355000  60000.000000\n",
              "48   Koteshwor  Attended School  357691  62476.750000\n",
              "31   Koteshwor              SLC  537610  64019.000000\n",
              "72   Koteshwor        Bachelors  508776  72586.000000\n",
              "14   Koteshwor          Masters  377000  80000.000000"
            ]
          },
          "execution_count": 50,
          "metadata": {},
          "output_type": "execute_result"
        }
      ],
      "source": [
        "#average food expenses\n",
        "df_sudal['food_avg']=df_sudal['food_today']/df_sudal['hhsize']\n",
        "#step by step\n",
        "\n",
        "filter1 = df_sudal[['area','education','income','food_avg']]\n",
        "filter2 = filter1.sort_values('food_avg')\n",
        "filter3 = filter2.tail(10)\n",
        "filter3\n",
        "\n",
        "df_sudal[['area','education','income','food_avg']].sort_values('food_avg').tail(10)"
      ]
    },
    {
      "cell_type": "markdown",
      "id": "3fdbc95e",
      "metadata": {
        "id": "3fdbc95e"
      },
      "source": [
        "## Q11: Suppose that you mistakenly created a variable `total_income` as `income_avg` times `hhsize`. You need to drop it without creating a new dataframe."
      ]
    },
    {
      "cell_type": "markdown",
      "id": "555e6f70",
      "metadata": {
        "id": "555e6f70"
      },
      "source": [
        "Created a new variable called total income"
      ]
    },
    {
      "cell_type": "code",
      "execution_count": null,
      "id": "44be3d1f",
      "metadata": {
        "id": "44be3d1f",
        "outputId": "9a6f0771-321b-4408-b835-ed6789fd0617"
      },
      "outputs": [
        {
          "data": {
            "text/html": [
              "<div>\n",
              "<style scoped>\n",
              "    .dataframe tbody tr th:only-of-type {\n",
              "        vertical-align: middle;\n",
              "    }\n",
              "\n",
              "    .dataframe tbody tr th {\n",
              "        vertical-align: top;\n",
              "    }\n",
              "\n",
              "    .dataframe thead th {\n",
              "        text-align: right;\n",
              "    }\n",
              "</style>\n",
              "<table border=\"1\" class=\"dataframe\">\n",
              "  <thead>\n",
              "    <tr style=\"text-align: right;\">\n",
              "      <th></th>\n",
              "      <th>sn</th>\n",
              "      <th>hh</th>\n",
              "      <th>area</th>\n",
              "      <th>gender</th>\n",
              "      <th>age</th>\n",
              "      <th>education</th>\n",
              "      <th>family</th>\n",
              "      <th>religion</th>\n",
              "      <th>ethnic</th>\n",
              "      <th>hhsize</th>\n",
              "      <th>employment</th>\n",
              "      <th>occupation</th>\n",
              "      <th>sector</th>\n",
              "      <th>food_today</th>\n",
              "      <th>food_10_yrs</th>\n",
              "      <th>expenses</th>\n",
              "      <th>income</th>\n",
              "      <th>income_avg</th>\n",
              "      <th>food_avg</th>\n",
              "      <th>total_income</th>\n",
              "    </tr>\n",
              "  </thead>\n",
              "  <tbody>\n",
              "    <tr>\n",
              "      <th>0</th>\n",
              "      <td>1</td>\n",
              "      <td>4</td>\n",
              "      <td>Koteshwor</td>\n",
              "      <td>Female</td>\n",
              "      <td>24</td>\n",
              "      <td>Masters</td>\n",
              "      <td>Nuclear</td>\n",
              "      <td>Hindiusm</td>\n",
              "      <td>2</td>\n",
              "      <td>15</td>\n",
              "      <td>Employed</td>\n",
              "      <td>3.0</td>\n",
              "      <td>1.0</td>\n",
              "      <td>180000</td>\n",
              "      <td>77620</td>\n",
              "      <td>356000</td>\n",
              "      <td>356000</td>\n",
              "      <td>23733</td>\n",
              "      <td>12000.000000</td>\n",
              "      <td>355995</td>\n",
              "    </tr>\n",
              "    <tr>\n",
              "      <th>1</th>\n",
              "      <td>2</td>\n",
              "      <td>74</td>\n",
              "      <td>Koteshwor</td>\n",
              "      <td>Female</td>\n",
              "      <td>25</td>\n",
              "      <td>Attended School</td>\n",
              "      <td>Joint</td>\n",
              "      <td>Buddhist</td>\n",
              "      <td>9</td>\n",
              "      <td>13</td>\n",
              "      <td>Employed</td>\n",
              "      <td>13.0</td>\n",
              "      <td>2.0</td>\n",
              "      <td>222122</td>\n",
              "      <td>160801</td>\n",
              "      <td>697073</td>\n",
              "      <td>567507</td>\n",
              "      <td>84137</td>\n",
              "      <td>17086.307692</td>\n",
              "      <td>1093781</td>\n",
              "    </tr>\n",
              "    <tr>\n",
              "      <th>2</th>\n",
              "      <td>3</td>\n",
              "      <td>11</td>\n",
              "      <td>Koteshwor</td>\n",
              "      <td>Male</td>\n",
              "      <td>25</td>\n",
              "      <td>Masters</td>\n",
              "      <td>Nuclear</td>\n",
              "      <td>Hindiusm</td>\n",
              "      <td>2</td>\n",
              "      <td>5</td>\n",
              "      <td>Employed</td>\n",
              "      <td>8.0</td>\n",
              "      <td>4.0</td>\n",
              "      <td>120000</td>\n",
              "      <td>14838</td>\n",
              "      <td>333000</td>\n",
              "      <td>333000</td>\n",
              "      <td>66600</td>\n",
              "      <td>24000.000000</td>\n",
              "      <td>333000</td>\n",
              "    </tr>\n",
              "    <tr>\n",
              "      <th>3</th>\n",
              "      <td>4</td>\n",
              "      <td>8</td>\n",
              "      <td>Koteshwor</td>\n",
              "      <td>Male</td>\n",
              "      <td>25</td>\n",
              "      <td>Intermediate</td>\n",
              "      <td>Nuclear</td>\n",
              "      <td>Hindiusm</td>\n",
              "      <td>2</td>\n",
              "      <td>6</td>\n",
              "      <td>Employed</td>\n",
              "      <td>5.0</td>\n",
              "      <td>4.0</td>\n",
              "      <td>144000</td>\n",
              "      <td>7281</td>\n",
              "      <td>283000</td>\n",
              "      <td>283000</td>\n",
              "      <td>47167</td>\n",
              "      <td>24000.000000</td>\n",
              "      <td>283002</td>\n",
              "    </tr>\n",
              "    <tr>\n",
              "      <th>4</th>\n",
              "      <td>5</td>\n",
              "      <td>12</td>\n",
              "      <td>Koteshwor</td>\n",
              "      <td>Male</td>\n",
              "      <td>26</td>\n",
              "      <td>Masters</td>\n",
              "      <td>Nuclear</td>\n",
              "      <td>Hindiusm</td>\n",
              "      <td>2</td>\n",
              "      <td>6</td>\n",
              "      <td>Employed</td>\n",
              "      <td>8.0</td>\n",
              "      <td>4.0</td>\n",
              "      <td>240000</td>\n",
              "      <td>158868</td>\n",
              "      <td>552000</td>\n",
              "      <td>552000</td>\n",
              "      <td>92000</td>\n",
              "      <td>40000.000000</td>\n",
              "      <td>552000</td>\n",
              "    </tr>\n",
              "    <tr>\n",
              "      <th>...</th>\n",
              "      <td>...</td>\n",
              "      <td>...</td>\n",
              "      <td>...</td>\n",
              "      <td>...</td>\n",
              "      <td>...</td>\n",
              "      <td>...</td>\n",
              "      <td>...</td>\n",
              "      <td>...</td>\n",
              "      <td>...</td>\n",
              "      <td>...</td>\n",
              "      <td>...</td>\n",
              "      <td>...</td>\n",
              "      <td>...</td>\n",
              "      <td>...</td>\n",
              "      <td>...</td>\n",
              "      <td>...</td>\n",
              "      <td>...</td>\n",
              "      <td>...</td>\n",
              "      <td>...</td>\n",
              "      <td>...</td>\n",
              "    </tr>\n",
              "    <tr>\n",
              "      <th>183</th>\n",
              "      <td>184</td>\n",
              "      <td>98</td>\n",
              "      <td>Sudal</td>\n",
              "      <td>Male</td>\n",
              "      <td>52</td>\n",
              "      <td>Attended School</td>\n",
              "      <td>Nuclear</td>\n",
              "      <td>Hindiusm</td>\n",
              "      <td>2</td>\n",
              "      <td>2</td>\n",
              "      <td>Employed</td>\n",
              "      <td>3.0</td>\n",
              "      <td>4.0</td>\n",
              "      <td>101613</td>\n",
              "      <td>53794</td>\n",
              "      <td>278066</td>\n",
              "      <td>474361</td>\n",
              "      <td>88331</td>\n",
              "      <td>50806.500000</td>\n",
              "      <td>176662</td>\n",
              "    </tr>\n",
              "    <tr>\n",
              "      <th>184</th>\n",
              "      <td>185</td>\n",
              "      <td>35</td>\n",
              "      <td>Sudal</td>\n",
              "      <td>Male</td>\n",
              "      <td>52</td>\n",
              "      <td>Bachelors</td>\n",
              "      <td>Joint</td>\n",
              "      <td>Hindiusm</td>\n",
              "      <td>3</td>\n",
              "      <td>7</td>\n",
              "      <td>Employed</td>\n",
              "      <td>6.0</td>\n",
              "      <td>1.0</td>\n",
              "      <td>97032</td>\n",
              "      <td>52219</td>\n",
              "      <td>357940</td>\n",
              "      <td>132871</td>\n",
              "      <td>47391</td>\n",
              "      <td>13861.714286</td>\n",
              "      <td>331737</td>\n",
              "    </tr>\n",
              "    <tr>\n",
              "      <th>185</th>\n",
              "      <td>186</td>\n",
              "      <td>72</td>\n",
              "      <td>Sudal</td>\n",
              "      <td>Male</td>\n",
              "      <td>52</td>\n",
              "      <td>Bachelors</td>\n",
              "      <td>Joint</td>\n",
              "      <td>Hindiusm</td>\n",
              "      <td>2</td>\n",
              "      <td>4</td>\n",
              "      <td>Unemployed</td>\n",
              "      <td>NaN</td>\n",
              "      <td>NaN</td>\n",
              "      <td>93508</td>\n",
              "      <td>73666</td>\n",
              "      <td>276585</td>\n",
              "      <td>434075</td>\n",
              "      <td>51636</td>\n",
              "      <td>23377.000000</td>\n",
              "      <td>206544</td>\n",
              "    </tr>\n",
              "    <tr>\n",
              "      <th>186</th>\n",
              "      <td>187</td>\n",
              "      <td>84</td>\n",
              "      <td>Sudal</td>\n",
              "      <td>Female</td>\n",
              "      <td>52</td>\n",
              "      <td>Masters</td>\n",
              "      <td>Joint</td>\n",
              "      <td>Hindiusm</td>\n",
              "      <td>3</td>\n",
              "      <td>2</td>\n",
              "      <td>Unemployed</td>\n",
              "      <td>NaN</td>\n",
              "      <td>NaN</td>\n",
              "      <td>84776</td>\n",
              "      <td>67318</td>\n",
              "      <td>389311</td>\n",
              "      <td>424008</td>\n",
              "      <td>100949</td>\n",
              "      <td>42388.000000</td>\n",
              "      <td>201898</td>\n",
              "    </tr>\n",
              "    <tr>\n",
              "      <th>187</th>\n",
              "      <td>188</td>\n",
              "      <td>10</td>\n",
              "      <td>Sudal</td>\n",
              "      <td>Female</td>\n",
              "      <td>55</td>\n",
              "      <td>Masters</td>\n",
              "      <td>Joint</td>\n",
              "      <td>Hindiusm</td>\n",
              "      <td>3</td>\n",
              "      <td>4</td>\n",
              "      <td>Employed</td>\n",
              "      <td>3.0</td>\n",
              "      <td>4.0</td>\n",
              "      <td>54000</td>\n",
              "      <td>2919</td>\n",
              "      <td>205000</td>\n",
              "      <td>444000</td>\n",
              "      <td>111000</td>\n",
              "      <td>13500.000000</td>\n",
              "      <td>444000</td>\n",
              "    </tr>\n",
              "  </tbody>\n",
              "</table>\n",
              "<p>188 rows × 20 columns</p>\n",
              "</div>"
            ],
            "text/plain": [
              "      sn  hh       area  gender  age        education   family  religion  \\\n",
              "0      1   4  Koteshwor  Female   24          Masters  Nuclear  Hindiusm   \n",
              "1      2  74  Koteshwor  Female   25  Attended School    Joint  Buddhist   \n",
              "2      3  11  Koteshwor    Male   25          Masters  Nuclear  Hindiusm   \n",
              "3      4   8  Koteshwor    Male   25     Intermediate  Nuclear  Hindiusm   \n",
              "4      5  12  Koteshwor    Male   26          Masters  Nuclear  Hindiusm   \n",
              "..   ...  ..        ...     ...  ...              ...      ...       ...   \n",
              "183  184  98      Sudal    Male   52  Attended School  Nuclear  Hindiusm   \n",
              "184  185  35      Sudal    Male   52        Bachelors    Joint  Hindiusm   \n",
              "185  186  72      Sudal    Male   52        Bachelors    Joint  Hindiusm   \n",
              "186  187  84      Sudal  Female   52          Masters    Joint  Hindiusm   \n",
              "187  188  10      Sudal  Female   55          Masters    Joint  Hindiusm   \n",
              "\n",
              "     ethnic  hhsize  employment  occupation  sector  food_today  food_10_yrs  \\\n",
              "0         2      15    Employed         3.0     1.0      180000        77620   \n",
              "1         9      13    Employed        13.0     2.0      222122       160801   \n",
              "2         2       5    Employed         8.0     4.0      120000        14838   \n",
              "3         2       6    Employed         5.0     4.0      144000         7281   \n",
              "4         2       6    Employed         8.0     4.0      240000       158868   \n",
              "..      ...     ...         ...         ...     ...         ...          ...   \n",
              "183       2       2    Employed         3.0     4.0      101613        53794   \n",
              "184       3       7    Employed         6.0     1.0       97032        52219   \n",
              "185       2       4  Unemployed         NaN     NaN       93508        73666   \n",
              "186       3       2  Unemployed         NaN     NaN       84776        67318   \n",
              "187       3       4    Employed         3.0     4.0       54000         2919   \n",
              "\n",
              "     expenses  income  income_avg      food_avg  total_income  \n",
              "0      356000  356000       23733  12000.000000        355995  \n",
              "1      697073  567507       84137  17086.307692       1093781  \n",
              "2      333000  333000       66600  24000.000000        333000  \n",
              "3      283000  283000       47167  24000.000000        283002  \n",
              "4      552000  552000       92000  40000.000000        552000  \n",
              "..        ...     ...         ...           ...           ...  \n",
              "183    278066  474361       88331  50806.500000        176662  \n",
              "184    357940  132871       47391  13861.714286        331737  \n",
              "185    276585  434075       51636  23377.000000        206544  \n",
              "186    389311  424008      100949  42388.000000        201898  \n",
              "187    205000  444000      111000  13500.000000        444000  \n",
              "\n",
              "[188 rows x 20 columns]"
            ]
          },
          "execution_count": 52,
          "metadata": {},
          "output_type": "execute_result"
        }
      ],
      "source": [
        "df_sudal['total_income'] = df_sudal['income_avg']*df_sudal['hhsize']\n",
        "df_sudal"
      ]
    },
    {
      "cell_type": "markdown",
      "id": "922a3934",
      "metadata": {
        "id": "922a3934"
      },
      "source": [
        "After creating you knew that it was needless. Now you need to `drop` it."
      ]
    },
    {
      "cell_type": "code",
      "execution_count": 6,
      "id": "ff98a0dd",
      "metadata": {
        "id": "ff98a0dd",
        "outputId": "253dc38f-a550-4d7c-e52d-3bbcfbcb3530",
        "colab": {
          "base_uri": "https://localhost:8080/",
          "height": 328
        }
      },
      "outputs": [
        {
          "output_type": "error",
          "ename": "KeyError",
          "evalue": "ignored",
          "traceback": [
            "\u001b[0;31m---------------------------------------------------------------------------\u001b[0m",
            "\u001b[0;31mKeyError\u001b[0m                                  Traceback (most recent call last)",
            "\u001b[0;32m<ipython-input-6-0ce007694025>\u001b[0m in \u001b[0;36m<module>\u001b[0;34m()\u001b[0m\n\u001b[0;32m----> 1\u001b[0;31m \u001b[0mdf_sudal\u001b[0m\u001b[0;34m.\u001b[0m\u001b[0mdrop\u001b[0m\u001b[0;34m(\u001b[0m\u001b[0mcolumns\u001b[0m\u001b[0;34m=\u001b[0m\u001b[0;34m'total_income'\u001b[0m\u001b[0;34m,\u001b[0m\u001b[0minplace\u001b[0m\u001b[0;34m=\u001b[0m\u001b[0;32mTrue\u001b[0m\u001b[0;34m)\u001b[0m\u001b[0;34m\u001b[0m\u001b[0;34m\u001b[0m\u001b[0m\n\u001b[0m\u001b[1;32m      2\u001b[0m \u001b[0mdf_sudal\u001b[0m\u001b[0;34m\u001b[0m\u001b[0;34m\u001b[0m\u001b[0m\n",
            "\u001b[0;32m/usr/local/lib/python3.7/dist-packages/pandas/util/_decorators.py\u001b[0m in \u001b[0;36mwrapper\u001b[0;34m(*args, **kwargs)\u001b[0m\n\u001b[1;32m    309\u001b[0m                     \u001b[0mstacklevel\u001b[0m\u001b[0;34m=\u001b[0m\u001b[0mstacklevel\u001b[0m\u001b[0;34m,\u001b[0m\u001b[0;34m\u001b[0m\u001b[0;34m\u001b[0m\u001b[0m\n\u001b[1;32m    310\u001b[0m                 )\n\u001b[0;32m--> 311\u001b[0;31m             \u001b[0;32mreturn\u001b[0m \u001b[0mfunc\u001b[0m\u001b[0;34m(\u001b[0m\u001b[0;34m*\u001b[0m\u001b[0margs\u001b[0m\u001b[0;34m,\u001b[0m \u001b[0;34m**\u001b[0m\u001b[0mkwargs\u001b[0m\u001b[0;34m)\u001b[0m\u001b[0;34m\u001b[0m\u001b[0;34m\u001b[0m\u001b[0m\n\u001b[0m\u001b[1;32m    312\u001b[0m \u001b[0;34m\u001b[0m\u001b[0m\n\u001b[1;32m    313\u001b[0m         \u001b[0;32mreturn\u001b[0m \u001b[0mwrapper\u001b[0m\u001b[0;34m\u001b[0m\u001b[0;34m\u001b[0m\u001b[0m\n",
            "\u001b[0;32m/usr/local/lib/python3.7/dist-packages/pandas/core/frame.py\u001b[0m in \u001b[0;36mdrop\u001b[0;34m(self, labels, axis, index, columns, level, inplace, errors)\u001b[0m\n\u001b[1;32m   4911\u001b[0m             \u001b[0mlevel\u001b[0m\u001b[0;34m=\u001b[0m\u001b[0mlevel\u001b[0m\u001b[0;34m,\u001b[0m\u001b[0;34m\u001b[0m\u001b[0;34m\u001b[0m\u001b[0m\n\u001b[1;32m   4912\u001b[0m             \u001b[0minplace\u001b[0m\u001b[0;34m=\u001b[0m\u001b[0minplace\u001b[0m\u001b[0;34m,\u001b[0m\u001b[0;34m\u001b[0m\u001b[0;34m\u001b[0m\u001b[0m\n\u001b[0;32m-> 4913\u001b[0;31m             \u001b[0merrors\u001b[0m\u001b[0;34m=\u001b[0m\u001b[0merrors\u001b[0m\u001b[0;34m,\u001b[0m\u001b[0;34m\u001b[0m\u001b[0;34m\u001b[0m\u001b[0m\n\u001b[0m\u001b[1;32m   4914\u001b[0m         )\n\u001b[1;32m   4915\u001b[0m \u001b[0;34m\u001b[0m\u001b[0m\n",
            "\u001b[0;32m/usr/local/lib/python3.7/dist-packages/pandas/core/generic.py\u001b[0m in \u001b[0;36mdrop\u001b[0;34m(self, labels, axis, index, columns, level, inplace, errors)\u001b[0m\n\u001b[1;32m   4148\u001b[0m         \u001b[0;32mfor\u001b[0m \u001b[0maxis\u001b[0m\u001b[0;34m,\u001b[0m \u001b[0mlabels\u001b[0m \u001b[0;32min\u001b[0m \u001b[0maxes\u001b[0m\u001b[0;34m.\u001b[0m\u001b[0mitems\u001b[0m\u001b[0;34m(\u001b[0m\u001b[0;34m)\u001b[0m\u001b[0;34m:\u001b[0m\u001b[0;34m\u001b[0m\u001b[0;34m\u001b[0m\u001b[0m\n\u001b[1;32m   4149\u001b[0m             \u001b[0;32mif\u001b[0m \u001b[0mlabels\u001b[0m \u001b[0;32mis\u001b[0m \u001b[0;32mnot\u001b[0m \u001b[0;32mNone\u001b[0m\u001b[0;34m:\u001b[0m\u001b[0;34m\u001b[0m\u001b[0;34m\u001b[0m\u001b[0m\n\u001b[0;32m-> 4150\u001b[0;31m                 \u001b[0mobj\u001b[0m \u001b[0;34m=\u001b[0m \u001b[0mobj\u001b[0m\u001b[0;34m.\u001b[0m\u001b[0m_drop_axis\u001b[0m\u001b[0;34m(\u001b[0m\u001b[0mlabels\u001b[0m\u001b[0;34m,\u001b[0m \u001b[0maxis\u001b[0m\u001b[0;34m,\u001b[0m \u001b[0mlevel\u001b[0m\u001b[0;34m=\u001b[0m\u001b[0mlevel\u001b[0m\u001b[0;34m,\u001b[0m \u001b[0merrors\u001b[0m\u001b[0;34m=\u001b[0m\u001b[0merrors\u001b[0m\u001b[0;34m)\u001b[0m\u001b[0;34m\u001b[0m\u001b[0;34m\u001b[0m\u001b[0m\n\u001b[0m\u001b[1;32m   4151\u001b[0m \u001b[0;34m\u001b[0m\u001b[0m\n\u001b[1;32m   4152\u001b[0m         \u001b[0;32mif\u001b[0m \u001b[0minplace\u001b[0m\u001b[0;34m:\u001b[0m\u001b[0;34m\u001b[0m\u001b[0;34m\u001b[0m\u001b[0m\n",
            "\u001b[0;32m/usr/local/lib/python3.7/dist-packages/pandas/core/generic.py\u001b[0m in \u001b[0;36m_drop_axis\u001b[0;34m(self, labels, axis, level, errors)\u001b[0m\n\u001b[1;32m   4183\u001b[0m                 \u001b[0mnew_axis\u001b[0m \u001b[0;34m=\u001b[0m \u001b[0maxis\u001b[0m\u001b[0;34m.\u001b[0m\u001b[0mdrop\u001b[0m\u001b[0;34m(\u001b[0m\u001b[0mlabels\u001b[0m\u001b[0;34m,\u001b[0m \u001b[0mlevel\u001b[0m\u001b[0;34m=\u001b[0m\u001b[0mlevel\u001b[0m\u001b[0;34m,\u001b[0m \u001b[0merrors\u001b[0m\u001b[0;34m=\u001b[0m\u001b[0merrors\u001b[0m\u001b[0;34m)\u001b[0m\u001b[0;34m\u001b[0m\u001b[0;34m\u001b[0m\u001b[0m\n\u001b[1;32m   4184\u001b[0m             \u001b[0;32melse\u001b[0m\u001b[0;34m:\u001b[0m\u001b[0;34m\u001b[0m\u001b[0;34m\u001b[0m\u001b[0m\n\u001b[0;32m-> 4185\u001b[0;31m                 \u001b[0mnew_axis\u001b[0m \u001b[0;34m=\u001b[0m \u001b[0maxis\u001b[0m\u001b[0;34m.\u001b[0m\u001b[0mdrop\u001b[0m\u001b[0;34m(\u001b[0m\u001b[0mlabels\u001b[0m\u001b[0;34m,\u001b[0m \u001b[0merrors\u001b[0m\u001b[0;34m=\u001b[0m\u001b[0merrors\u001b[0m\u001b[0;34m)\u001b[0m\u001b[0;34m\u001b[0m\u001b[0;34m\u001b[0m\u001b[0m\n\u001b[0m\u001b[1;32m   4186\u001b[0m             \u001b[0mresult\u001b[0m \u001b[0;34m=\u001b[0m \u001b[0mself\u001b[0m\u001b[0;34m.\u001b[0m\u001b[0mreindex\u001b[0m\u001b[0;34m(\u001b[0m\u001b[0;34m**\u001b[0m\u001b[0;34m{\u001b[0m\u001b[0maxis_name\u001b[0m\u001b[0;34m:\u001b[0m \u001b[0mnew_axis\u001b[0m\u001b[0;34m}\u001b[0m\u001b[0;34m)\u001b[0m\u001b[0;34m\u001b[0m\u001b[0;34m\u001b[0m\u001b[0m\n\u001b[1;32m   4187\u001b[0m \u001b[0;34m\u001b[0m\u001b[0m\n",
            "\u001b[0;32m/usr/local/lib/python3.7/dist-packages/pandas/core/indexes/base.py\u001b[0m in \u001b[0;36mdrop\u001b[0;34m(self, labels, errors)\u001b[0m\n\u001b[1;32m   6015\u001b[0m         \u001b[0;32mif\u001b[0m \u001b[0mmask\u001b[0m\u001b[0;34m.\u001b[0m\u001b[0many\u001b[0m\u001b[0;34m(\u001b[0m\u001b[0;34m)\u001b[0m\u001b[0;34m:\u001b[0m\u001b[0;34m\u001b[0m\u001b[0;34m\u001b[0m\u001b[0m\n\u001b[1;32m   6016\u001b[0m             \u001b[0;32mif\u001b[0m \u001b[0merrors\u001b[0m \u001b[0;34m!=\u001b[0m \u001b[0;34m\"ignore\"\u001b[0m\u001b[0;34m:\u001b[0m\u001b[0;34m\u001b[0m\u001b[0;34m\u001b[0m\u001b[0m\n\u001b[0;32m-> 6017\u001b[0;31m                 \u001b[0;32mraise\u001b[0m \u001b[0mKeyError\u001b[0m\u001b[0;34m(\u001b[0m\u001b[0;34mf\"{labels[mask]} not found in axis\"\u001b[0m\u001b[0;34m)\u001b[0m\u001b[0;34m\u001b[0m\u001b[0;34m\u001b[0m\u001b[0m\n\u001b[0m\u001b[1;32m   6018\u001b[0m             \u001b[0mindexer\u001b[0m \u001b[0;34m=\u001b[0m \u001b[0mindexer\u001b[0m\u001b[0;34m[\u001b[0m\u001b[0;34m~\u001b[0m\u001b[0mmask\u001b[0m\u001b[0;34m]\u001b[0m\u001b[0;34m\u001b[0m\u001b[0;34m\u001b[0m\u001b[0m\n\u001b[1;32m   6019\u001b[0m         \u001b[0;32mreturn\u001b[0m \u001b[0mself\u001b[0m\u001b[0;34m.\u001b[0m\u001b[0mdelete\u001b[0m\u001b[0;34m(\u001b[0m\u001b[0mindexer\u001b[0m\u001b[0;34m)\u001b[0m\u001b[0;34m\u001b[0m\u001b[0;34m\u001b[0m\u001b[0m\n",
            "\u001b[0;31mKeyError\u001b[0m: \"['total_income'] not found in axis\""
          ]
        }
      ],
      "source": [
        "df_sudal.drop(columns='total_income',inplace=True)\n",
        "df_sudal"
      ]
    },
    {
      "cell_type": "markdown",
      "id": "3d5c3c1d",
      "metadata": {
        "id": "3d5c3c1d"
      },
      "source": [
        "## Q12: Find the relationship between `food expenses today` and `food expenses 10 years ago`."
      ]
    },
    {
      "cell_type": "markdown",
      "id": "80243e4a",
      "metadata": {
        "id": "80243e4a"
      },
      "source": [
        "There are two methods. First method is to find the correlation and second method is to draw scatter plot."
      ]
    },
    {
      "cell_type": "code",
      "execution_count": null,
      "id": "674f897e",
      "metadata": {
        "id": "674f897e",
        "outputId": "af17a21e-de48-4148-a68a-84ed191aa4f8"
      },
      "outputs": [
        {
          "data": {
            "text/html": [
              "<div>\n",
              "<style scoped>\n",
              "    .dataframe tbody tr th:only-of-type {\n",
              "        vertical-align: middle;\n",
              "    }\n",
              "\n",
              "    .dataframe tbody tr th {\n",
              "        vertical-align: top;\n",
              "    }\n",
              "\n",
              "    .dataframe thead th {\n",
              "        text-align: right;\n",
              "    }\n",
              "</style>\n",
              "<table border=\"1\" class=\"dataframe\">\n",
              "  <thead>\n",
              "    <tr style=\"text-align: right;\">\n",
              "      <th></th>\n",
              "      <th>food_today</th>\n",
              "      <th>food_10_yrs</th>\n",
              "    </tr>\n",
              "  </thead>\n",
              "  <tbody>\n",
              "    <tr>\n",
              "      <th>food_today</th>\n",
              "      <td>1.000000</td>\n",
              "      <td>0.517435</td>\n",
              "    </tr>\n",
              "    <tr>\n",
              "      <th>food_10_yrs</th>\n",
              "      <td>0.517435</td>\n",
              "      <td>1.000000</td>\n",
              "    </tr>\n",
              "  </tbody>\n",
              "</table>\n",
              "</div>"
            ],
            "text/plain": [
              "             food_today  food_10_yrs\n",
              "food_today     1.000000     0.517435\n",
              "food_10_yrs    0.517435     1.000000"
            ]
          },
          "execution_count": 58,
          "metadata": {},
          "output_type": "execute_result"
        }
      ],
      "source": [
        "#Correlation\n",
        "df_sudal[['food_today','food_10_yrs']].corr()"
      ]
    },
    {
      "cell_type": "code",
      "execution_count": null,
      "id": "1d1254a0",
      "metadata": {
        "id": "1d1254a0"
      },
      "outputs": [],
      "source": [
        "sns.set_style(\"darkgrid\")"
      ]
    },
    {
      "cell_type": "code",
      "execution_count": null,
      "id": "b7a49f64",
      "metadata": {
        "id": "b7a49f64"
      },
      "outputs": [],
      "source": [
        "#Scatter plot\n",
        "#First importing the packages\n",
        "import matplotlib.pyplot as plt\n",
        "import seaborn as sns\n",
        "%matplotlib inline"
      ]
    },
    {
      "cell_type": "code",
      "execution_count": null,
      "id": "cb6223e7",
      "metadata": {
        "id": "cb6223e7",
        "outputId": "68eefd9b-ed68-4f6c-93bf-ac00bde52e5b"
      },
      "outputs": [
        {
          "data": {
            "image/png": "[encoded data removed]",
            "text/plain": [
              "<Figure size 432x288 with 1 Axes>"
            ]
          },
          "metadata": {
            "needs_background": "light"
          },
          "output_type": "display_data"
        }
      ],
      "source": [
        "sns.scatterplot(x=df_sudal.food_today,y=df_sudal.food_10_yrs,hue=df_sudal.gender);\n",
        "plt.title('Scatter plot of Food expenses today and Food expenses 10 yrs ago');\n",
        "plt.xlabel('Food expenses today in Rs.')\n",
        "plt.ylabel(\"Food expenses 10 yrs ago in Rs.\");"
      ]
    },
    {
      "cell_type": "code",
      "execution_count": null,
      "id": "d5882001",
      "metadata": {
        "id": "d5882001",
        "outputId": "f7252d79-b0c0-45b9-a6cb-100f2b4f1ff3"
      },
      "outputs": [
        {
          "name": "stderr",
          "output_type": "stream",
          "text": [
            "C:\\Users\\rohan\\AppData\\Local\\Temp\\ipykernel_25072\\2974915256.py:3: UserWarning: Boolean Series key will be reindexed to match DataFrame index.\n",
            "  my_data = df_sudal[df_sudal['area']==area][df_sudal['income']>income]\n"
          ]
        },
        {
          "data": {
            "image/png": "[encoded data removed]",
            "text/plain": [
              "<Figure size 432x288 with 1 Axes>"
            ]
          },
          "metadata": {
            "needs_background": "light"
          },
          "output_type": "display_data"
        }
      ],
      "source": [
        "area = \"Koteshwor\"\n",
        "income = 20000\n",
        "my_data = df_sudal[df_sudal['area']==area][df_sudal['income']>income]\n",
        "\n",
        "sns.scatterplot(x='food_today',y='food_10_yrs',hue='gender',data=my_data);\n",
        "plt.title('Scatter plot of Food expenses today and Food expenses 10 yrs ago in {} with income>Rs.{}'.format(area,income));\n",
        "plt.xlabel('Food expenses today in Rs.')\n",
        "plt.ylabel(\"Food expenses 10 yrs ago in Rs.\");"
      ]
    },
    {
      "cell_type": "markdown",
      "id": "506eb0cf",
      "metadata": {
        "id": "506eb0cf"
      },
      "source": [
        "## Q13: Create a histogram of total income of households. Also create a pie chart of area and gender of respondents."
      ]
    },
    {
      "cell_type": "code",
      "execution_count": null,
      "id": "bc654a3b",
      "metadata": {
        "id": "bc654a3b",
        "outputId": "12bccfde-03fc-4d38-d6e0-ddbf5ffdb0f8"
      },
      "outputs": [
        {
          "data": {
            "image/png": "[encoded data removed]",
            "text/plain": [
              "<Figure size 432x288 with 1 Axes>"
            ]
          },
          "metadata": {},
          "output_type": "display_data"
        }
      ],
      "source": [
        "plt.hist(df_sudal.income);\n",
        "plt.title(\"Histogram of Total Income\");"
      ]
    }
  ],
  "metadata": {
    "kernelspec": {
      "display_name": "Python 3 (ipykernel)",
      "language": "python",
      "name": "python3"
    },
    "language_info": {
      "codemirror_mode": {
        "name": "ipython",
        "version": 3
      },
      "file_extension": ".py",
      "mimetype": "text/x-python",
      "name": "python",
      "nbconvert_exporter": "python",
      "pygments_lexer": "ipython3",
      "version": "3.9.12"
    },
    "colab": {
      "name": "survey-data-python.ipynb",
      "provenance": [],
      "include_colab_link": true
    }
  },
  "nbformat": 4,
  "nbformat_minor": 5
}